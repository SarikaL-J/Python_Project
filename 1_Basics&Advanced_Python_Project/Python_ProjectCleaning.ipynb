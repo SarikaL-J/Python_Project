{
 "cells": [
  {
   "cell_type": "code",
   "execution_count": 1,
   "id": "8b227a61-d485-4f45-8a4c-1cd1186c7031",
   "metadata": {},
   "outputs": [],
   "source": [
    "skill = \"python\"\n"
   ]
  },
  {
   "cell_type": "code",
   "execution_count": 2,
   "id": "9f246e7e-7120-4d13-a433-f5bc3eda1972",
   "metadata": {},
   "outputs": [
    {
     "data": {
      "text/plain": [
       "'python'"
      ]
     },
     "execution_count": 2,
     "metadata": {},
     "output_type": "execute_result"
    }
   ],
   "source": [
    "skill"
   ]
  },
  {
   "cell_type": "code",
   "execution_count": 3,
   "id": "a90dcced-7066-4084-9e6e-a2e7b2c82091",
   "metadata": {},
   "outputs": [
    {
     "data": {
      "text/plain": [
       "str"
      ]
     },
     "execution_count": 3,
     "metadata": {},
     "output_type": "execute_result"
    }
   ],
   "source": [
    "type(skill)"
   ]
  },
  {
   "cell_type": "code",
   "execution_count": 4,
   "id": "448492db-bfaa-408f-bd70-20cbdc6f4c02",
   "metadata": {},
   "outputs": [
    {
     "data": {
      "text/plain": [
       "'PYTHON'"
      ]
     },
     "execution_count": 4,
     "metadata": {},
     "output_type": "execute_result"
    }
   ],
   "source": [
    "skill.upper()"
   ]
  },
  {
   "cell_type": "code",
   "execution_count": 5,
   "id": "0a018177-b549-48ff-845e-db67cb2eaa93",
   "metadata": {},
   "outputs": [
    {
     "data": {
      "text/plain": [
       "'python'"
      ]
     },
     "execution_count": 5,
     "metadata": {},
     "output_type": "execute_result"
    }
   ],
   "source": [
    "skill.lower()"
   ]
  },
  {
   "cell_type": "code",
   "execution_count": 6,
   "id": "f502afea-c315-43a0-8fbd-c5f8ee9ef232",
   "metadata": {},
   "outputs": [
    {
     "data": {
      "text/plain": [
       "'jython'"
      ]
     },
     "execution_count": 6,
     "metadata": {},
     "output_type": "execute_result"
    }
   ],
   "source": [
    "skill.replace(\"p\",\"j\")"
   ]
  },
  {
   "cell_type": "code",
   "execution_count": 7,
   "id": "42c379f2-16af-4302-9046-b48b62f62268",
   "metadata": {},
   "outputs": [],
   "source": [
    "jobe_title =\"data analyst\"\n",
    "#rename as doto analyst\n",
    "job_title = jobe_title.replace(\"a\",\"o\",2) #here 2 means first 2 occurences of a will be replaced with new letter"
   ]
  },
  {
   "cell_type": "code",
   "execution_count": 8,
   "id": "50e0a717-ba38-4707-ac8b-b27ea203add3",
   "metadata": {},
   "outputs": [
    {
     "data": {
      "text/plain": [
       "['doto', 'analyst']"
      ]
     },
     "execution_count": 8,
     "metadata": {},
     "output_type": "execute_result"
    }
   ],
   "source": [
    "#split the string \n",
    "job_title.split()"
   ]
  },
  {
   "cell_type": "code",
   "execution_count": 9,
   "id": "aee7501e-993b-43ad-983b-cf62b6ef0150",
   "metadata": {},
   "outputs": [
    {
     "data": {
      "text/plain": [
       "'data analyst job'"
      ]
     },
     "execution_count": 9,
     "metadata": {},
     "output_type": "execute_result"
    }
   ],
   "source": [
    "#Add two strings\n",
    "\"data\" \" \" + \"analyst\" \" \" + \"job\""
   ]
  },
  {
   "cell_type": "code",
   "execution_count": 10,
   "id": "bc399891-5922-46bb-ad8d-bb795ed258ea",
   "metadata": {},
   "outputs": [
    {
     "data": {
      "text/plain": [
       "16"
      ]
     },
     "execution_count": 10,
     "metadata": {},
     "output_type": "execute_result"
    }
   ],
   "source": [
    "#find length - it counts spaces too \n",
    "len('data analyst job')"
   ]
  },
  {
   "cell_type": "code",
   "execution_count": 11,
   "id": "3829d66e-322e-4347-ae43-a5ea993f13cf",
   "metadata": {},
   "outputs": [
    {
     "data": {
      "text/plain": [
       "'Role : data analyst'"
      ]
     },
     "execution_count": 11,
     "metadata": {},
     "output_type": "execute_result"
    }
   ],
   "source": [
    "# #string formatting - how to comment all the code- command +forward slash \n",
    "role = \"data analyst\"\n",
    "skill =\"python\"\n",
    " # write out 'Role: Data Analyst'\n",
    "\"Role : \" + role"
   ]
  },
  {
   "cell_type": "code",
   "execution_count": 12,
   "id": "d8052a7f-fb9d-4a63-b6c1-47a5c8ee01c3",
   "metadata": {},
   "outputs": [
    {
     "data": {
      "text/plain": [
       "' Role: data analyst, skill req : python'"
      ]
     },
     "execution_count": 12,
     "metadata": {},
     "output_type": "execute_result"
    }
   ],
   "source": [
    "f\" Role: {role}, skill req : {skill}\"\n"
   ]
  },
  {
   "cell_type": "code",
   "execution_count": 13,
   "id": "82248b8d-d062-4b2d-bd6b-21779756e857",
   "metadata": {},
   "outputs": [],
   "source": [
    "#Join \n",
    "years_Experience =[\"0123456789\"]\n"
   ]
  },
  {
   "cell_type": "code",
   "execution_count": 14,
   "id": "85c7e7c6-9ba6-421c-80c9-65a7a7415d0c",
   "metadata": {},
   "outputs": [],
   "source": [
    "years_Experience = \", \".join(years_Experience)"
   ]
  },
  {
   "cell_type": "code",
   "execution_count": 15,
   "id": "a7d6083e-53d8-4974-be68-792b45da5e3a",
   "metadata": {},
   "outputs": [
    {
     "data": {
      "text/plain": [
       "'0123456789'"
      ]
     },
     "execution_count": 15,
     "metadata": {},
     "output_type": "execute_result"
    }
   ],
   "source": [
    "years_Experience"
   ]
  },
  {
   "cell_type": "code",
   "execution_count": 16,
   "id": "75ff6eaf-5d24-4301-9691-14adedc7c8f3",
   "metadata": {},
   "outputs": [],
   "source": [
    "min_salary = 100000  #_ is ignored by the intrepretaor\n",
    "max_salary = 500000"
   ]
  },
  {
   "cell_type": "code",
   "execution_count": 17,
   "id": "dd3e8872-38ae-47d9-863e-413d7867d0fa",
   "metadata": {},
   "outputs": [],
   "source": [
    "avg_sal = (min_salary+max_salary)/2"
   ]
  },
  {
   "cell_type": "code",
   "execution_count": 18,
   "id": "c5b4c887-750a-4bd7-8da7-82cda6801ca2",
   "metadata": {},
   "outputs": [
    {
     "data": {
      "text/plain": [
       "300000.0"
      ]
     },
     "execution_count": 18,
     "metadata": {},
     "output_type": "execute_result"
    }
   ],
   "source": [
    "avg_sal"
   ]
  },
  {
   "cell_type": "code",
   "execution_count": 19,
   "id": "630a7f2a-1336-40af-bed8-3b85e2a4bd49",
   "metadata": {},
   "outputs": [],
   "source": [
    "#assignment operators"
   ]
  },
  {
   "cell_type": "code",
   "execution_count": 20,
   "id": "c631cadb-8bc0-4a19-9b61-5d21c80ab20b",
   "metadata": {},
   "outputs": [],
   "source": [
    "applicant_1 = \"Kelly\"    #swap 2 variables\n",
    "\n",
    "applicant_2 =\"sarika\"\n",
    "applicant_1, applicant_2 =applicant_2,applicant_1\n"
   ]
  },
  {
   "cell_type": "code",
   "execution_count": 21,
   "id": "85de6201-8603-4237-a673-72f156308c36",
   "metadata": {},
   "outputs": [
    {
     "data": {
      "text/plain": [
       "'sarika'"
      ]
     },
     "execution_count": 21,
     "metadata": {},
     "output_type": "execute_result"
    }
   ],
   "source": [
    "applicant_1"
   ]
  },
  {
   "cell_type": "code",
   "execution_count": 22,
   "id": "2095df22-c3a5-4d17-a7d1-9a345ec4e6f8",
   "metadata": {},
   "outputs": [
    {
     "data": {
      "text/plain": [
       "'Kelly'"
      ]
     },
     "execution_count": 22,
     "metadata": {},
     "output_type": "execute_result"
    }
   ],
   "source": [
    "applicant_2\n"
   ]
  },
  {
   "cell_type": "code",
   "execution_count": 23,
   "id": "3ff07c85-1d7e-4d44-87d7-ab7f6e4e1b2e",
   "metadata": {},
   "outputs": [],
   "source": [
    "x=1\n",
    "x += 1"
   ]
  },
  {
   "cell_type": "code",
   "execution_count": 24,
   "id": "75c995fe-1193-4c2b-b3a3-a570a0c7a82d",
   "metadata": {},
   "outputs": [
    {
     "data": {
      "text/plain": [
       "2"
      ]
     },
     "execution_count": 24,
     "metadata": {},
     "output_type": "execute_result"
    }
   ],
   "source": [
    "x"
   ]
  },
  {
   "cell_type": "code",
   "execution_count": 25,
   "id": "f4a709dd-b455-4088-b19f-5fe781e25a60",
   "metadata": {},
   "outputs": [],
   "source": [
    "x *= 2"
   ]
  },
  {
   "cell_type": "code",
   "execution_count": 26,
   "id": "d6173dcf-20aa-4a8f-8d93-0b4a3c4ada14",
   "metadata": {},
   "outputs": [
    {
     "data": {
      "text/plain": [
       "4"
      ]
     },
     "execution_count": 26,
     "metadata": {},
     "output_type": "execute_result"
    }
   ],
   "source": [
    "x"
   ]
  },
  {
   "cell_type": "code",
   "execution_count": 27,
   "id": "47fee104-8a95-4f29-b12c-ba84e790e4a9",
   "metadata": {},
   "outputs": [
    {
     "data": {
      "text/plain": [
       "False"
      ]
     },
     "execution_count": 27,
     "metadata": {},
     "output_type": "execute_result"
    }
   ],
   "source": [
    "#comparing\n",
    "salalry_kelly = 120000\n",
    "salalry_sarika = 130000\n",
    "salalry_kelly == salalry_sarika"
   ]
  },
  {
   "cell_type": "code",
   "execution_count": 28,
   "id": "94be7f1a-7d37-43bb-86ff-edf528a4562f",
   "metadata": {},
   "outputs": [
    {
     "data": {
      "text/plain": [
       "True"
      ]
     },
     "execution_count": 28,
     "metadata": {},
     "output_type": "execute_result"
    }
   ],
   "source": [
    "1== 1"
   ]
  },
  {
   "cell_type": "code",
   "execution_count": 29,
   "id": "739d484b-daa8-49ad-bebd-f6c87be28e07",
   "metadata": {},
   "outputs": [],
   "source": [
    "#skills req for job posting \n",
    "Applicant_skill = \"sql\"\n",
    "job_skill =\"python\"\n",
    "years_of_exp = 3\n",
    "if Applicant_skill == job_skill:\n",
    "  print(\"skills Matched!\")\n"
   ]
  },
  {
   "cell_type": "code",
   "execution_count": 30,
   "id": "fc967343-9c17-40bc-aa20-e6de5c166309",
   "metadata": {},
   "outputs": [
    {
     "name": "stdout",
     "output_type": "stream",
     "text": [
      "no skill or exp;not matched!\n"
     ]
    }
   ],
   "source": [
    "if Applicant_skill == job_skill:\n",
    "  print(\"skills Matched!\")\n",
    "elif years_of_exp >=5:\n",
    "    print(\"enough exp; no sql \")\n",
    "else:\n",
    "    print(\"no skill or exp;not matched!\")"
   ]
  },
  {
   "cell_type": "code",
   "execution_count": 31,
   "id": "23ab5fea-46c0-4227-b7ce-f2326a7496bc",
   "metadata": {},
   "outputs": [],
   "source": [
    "#  LISTS \n",
    "#lists are a collection of ordered items with different data types\n",
    "# we can add and remove items from the lsit that means lists are mutable \n",
    "# ta list can have duplicate items"
   ]
  },
  {
   "cell_type": "code",
   "execution_count": 32,
   "id": "8f49017d-ce51-4c90-94d9-d06da32efa1a",
   "metadata": {},
   "outputs": [],
   "source": [
    "job_lists =[\"sql\",\"pyhton\",\"excel\"]"
   ]
  },
  {
   "cell_type": "code",
   "execution_count": 33,
   "id": "dcde211a-cb5f-48e2-9ff2-8900fe31510a",
   "metadata": {},
   "outputs": [
    {
     "data": {
      "text/plain": [
       "['sql', 'pyhton', 'excel', 'tableu']"
      ]
     },
     "execution_count": 33,
     "metadata": {},
     "output_type": "execute_result"
    }
   ],
   "source": [
    "job_lists.append(\"tableu\")   #APPEND ADD THE ITEMS AT THE END of the list \n",
    "job_lists"
   ]
  },
  {
   "cell_type": "code",
   "execution_count": 34,
   "id": "10226a27-2ec7-4139-9454-8a5ef917cf48",
   "metadata": {},
   "outputs": [],
   "source": [
    "# remove the item from the list \n",
    "job_lists.remove(\"tableu\")"
   ]
  },
  {
   "cell_type": "code",
   "execution_count": 35,
   "id": "72ce4142-f684-471e-8804-669f51ab5a20",
   "metadata": {},
   "outputs": [],
   "source": [
    "job_lists_1 = ['sql', 'excel', 'tableu', 'tableu','python']"
   ]
  },
  {
   "cell_type": "code",
   "execution_count": 36,
   "id": "9ebd5bab-f8e7-4dc2-a648-076c8011cde0",
   "metadata": {},
   "outputs": [],
   "source": [
    "job_lists_1.remove('python')  #removes first occurence of the item\n"
   ]
  },
  {
   "cell_type": "code",
   "execution_count": 37,
   "id": "ac600f4d-3004-434a-9834-0ae80fde5748",
   "metadata": {},
   "outputs": [
    {
     "data": {
      "text/plain": [
       "['sql', 'excel', 'tableu', 'tableu']"
      ]
     },
     "execution_count": 37,
     "metadata": {},
     "output_type": "execute_result"
    }
   ],
   "source": [
    "job_lists_1"
   ]
  },
  {
   "cell_type": "code",
   "execution_count": 38,
   "id": "9664a934-f77a-4212-9809-60ce7078ce34",
   "metadata": {},
   "outputs": [
    {
     "data": {
      "text/plain": [
       "['sql', 'excel', 'tableu', 'tableu']"
      ]
     },
     "execution_count": 38,
     "metadata": {},
     "output_type": "execute_result"
    }
   ],
   "source": [
    "#now we can use 'insert' to put the items in the right position  in the list\n",
    "job_lists_1"
   ]
  },
  {
   "cell_type": "code",
   "execution_count": 39,
   "id": "6cc1ecf4-e9f5-4b20-ba06-2f96a4cee81f",
   "metadata": {},
   "outputs": [],
   "source": [
    "job_lists_1.insert(1,\"consistency\")"
   ]
  },
  {
   "cell_type": "code",
   "execution_count": 40,
   "id": "101e08ef-366c-4161-ab4b-b9080dcee2bb",
   "metadata": {},
   "outputs": [
    {
     "data": {
      "text/plain": [
       "['sql', 'consistency', 'excel', 'tableu', 'tableu']"
      ]
     },
     "execution_count": 40,
     "metadata": {},
     "output_type": "execute_result"
    }
   ],
   "source": [
    "job_lists_1"
   ]
  },
  {
   "cell_type": "code",
   "execution_count": 41,
   "id": "73142b34-adff-499f-a1ca-cde57fb630c8",
   "metadata": {},
   "outputs": [
    {
     "data": {
      "text/plain": [
       "'consistency'"
      ]
     },
     "execution_count": 41,
     "metadata": {},
     "output_type": "execute_result"
    }
   ],
   "source": [
    "job_lists_1.pop(1)"
   ]
  },
  {
   "cell_type": "code",
   "execution_count": 42,
   "id": "579cb77a-998d-4e10-abe3-6c5629ebbf8a",
   "metadata": {},
   "outputs": [
    {
     "data": {
      "text/plain": [
       "['sql', 'excel', 'tableu', 'tableu']"
      ]
     },
     "execution_count": 42,
     "metadata": {},
     "output_type": "execute_result"
    }
   ],
   "source": [
    "job_lists_1"
   ]
  },
  {
   "cell_type": "code",
   "execution_count": 43,
   "id": "18e8f5dc-00cb-43a3-8cde-8f2fc4dc5c48",
   "metadata": {},
   "outputs": [
    {
     "data": {
      "text/plain": [
       "['sql', 'excel']"
      ]
     },
     "execution_count": 43,
     "metadata": {},
     "output_type": "execute_result"
    }
   ],
   "source": [
    "job_lists_1[0:2]"
   ]
  },
  {
   "cell_type": "code",
   "execution_count": 44,
   "id": "66291cd5-9178-484a-86e8-8b0adcc6a1d7",
   "metadata": {},
   "outputs": [
    {
     "data": {
      "text/plain": [
       "['sql', 'excel', 'tableu', 'tableu']"
      ]
     },
     "execution_count": 44,
     "metadata": {},
     "output_type": "execute_result"
    }
   ],
   "source": [
    "job_lists_1[0:4]"
   ]
  },
  {
   "cell_type": "code",
   "execution_count": 45,
   "id": "b741a1ad-8e0e-4626-837e-8d54e9e30483",
   "metadata": {},
   "outputs": [
    {
     "data": {
      "text/plain": [
       "['excel', 'tableu']"
      ]
     },
     "execution_count": 45,
     "metadata": {},
     "output_type": "execute_result"
    }
   ],
   "source": [
    "job_lists_1[1:3]"
   ]
  },
  {
   "cell_type": "code",
   "execution_count": 46,
   "id": "96d18ac3-1bd5-457c-9043-749463d44485",
   "metadata": {},
   "outputs": [],
   "source": [
    "#steps"
   ]
  },
  {
   "cell_type": "code",
   "execution_count": 47,
   "id": "b0007983-5b70-4542-8b72-06a6bda755aa",
   "metadata": {},
   "outputs": [],
   "source": [
    "luke_skills =[\"python\",\"r\",\"power_bi\"]\n",
    "kelly_skills =[\"python\",\"looker\",\"sql\"]\n",
    "all_skills = luke_skills+kelly_skills"
   ]
  },
  {
   "cell_type": "code",
   "execution_count": 48,
   "id": "7544e218-8356-4d6c-bfb0-af86b078d496",
   "metadata": {},
   "outputs": [
    {
     "data": {
      "text/plain": [
       "['python', 'r', 'power_bi', 'python', 'looker', 'sql']"
      ]
     },
     "execution_count": 48,
     "metadata": {},
     "output_type": "execute_result"
    }
   ],
   "source": [
    "all_skills"
   ]
  },
  {
   "cell_type": "code",
   "execution_count": 49,
   "id": "77a65c14-b53b-4665-97be-907a08da43f3",
   "metadata": {},
   "outputs": [
    {
     "data": {
      "text/plain": [
       "['python', 'power_bi', 'looker']"
      ]
     },
     "execution_count": 49,
     "metadata": {},
     "output_type": "execute_result"
    }
   ],
   "source": [
    "all_skills[::2]"
   ]
  },
  {
   "cell_type": "code",
   "execution_count": 50,
   "id": "bb0a4cc3-27f6-4dca-8000-446349f8ec9c",
   "metadata": {},
   "outputs": [],
   "source": [
    "skills_req =[ 'r', 'power_bi', 'python', 'looker', 'sql']"
   ]
  },
  {
   "cell_type": "code",
   "execution_count": 51,
   "id": "0e4b909c-e5a2-4ee9-ad56-6c37b3c9cc73",
   "metadata": {},
   "outputs": [],
   "source": [
    "skill1,skill2,skill3,skill4,skill5 = skills_req     #this is called unpacking"
   ]
  },
  {
   "cell_type": "code",
   "execution_count": 52,
   "id": "89b36429-fe3a-4618-b935-bcc20c13df44",
   "metadata": {},
   "outputs": [
    {
     "name": "stdout",
     "output_type": "stream",
     "text": [
      "r\n",
      "power_bi\n",
      "python\n"
     ]
    }
   ],
   "source": [
    "print(skill1)\n",
    "print(skill2) \n",
    "print(skill3)\n"
   ]
  },
  {
   "cell_type": "code",
   "execution_count": 53,
   "id": "d2cb05ac-25ce-470b-a7e8-b6c365ac9965",
   "metadata": {},
   "outputs": [],
   "source": [
    "#now we are only concerned about some part if the list and not remaning like ,\n",
    "#we want to see only if the first 2 items of the list are matched  then we can unpack them like this"
   ]
  },
  {
   "cell_type": "code",
   "execution_count": 54,
   "id": "fe0a224d-6074-4cbc-8863-0091d60c6f81",
   "metadata": {},
   "outputs": [],
   "source": [
    "skill_concerned_1,skill_concerned_2, *not_cared = skills_req"
   ]
  },
  {
   "cell_type": "code",
   "execution_count": 55,
   "id": "5a113393-d960-41c7-aaa3-9ef5812de6a6",
   "metadata": {},
   "outputs": [
    {
     "data": {
      "text/plain": [
       "('r', 'power_bi')"
      ]
     },
     "execution_count": 55,
     "metadata": {},
     "output_type": "execute_result"
    }
   ],
   "source": [
    "skill_concerned_1,skill_concerned_2"
   ]
  },
  {
   "cell_type": "code",
   "execution_count": 56,
   "id": "6d176a81-e8ec-47d4-bf9a-79f8f77f1e91",
   "metadata": {},
   "outputs": [
    {
     "data": {
      "text/plain": [
       "['python', 'looker', 'sql']"
      ]
     },
     "execution_count": 56,
     "metadata": {},
     "output_type": "execute_result"
    }
   ],
   "source": [
    "not_cared"
   ]
  },
  {
   "cell_type": "code",
   "execution_count": 57,
   "id": "8491cacc-9457-46ed-a83f-7a2f0742f756",
   "metadata": {},
   "outputs": [],
   "source": [
    "#Dictionary \n",
    "job_type_skills = {\n",
    "    'database' : 'postgresql',\n",
    "    'language' : 'python',\n",
    "    'library'  : 'pandas'  }"
   ]
  },
  {
   "cell_type": "code",
   "execution_count": 58,
   "id": "52bd151a-8865-49fa-ab35-d209a272dc35",
   "metadata": {},
   "outputs": [
    {
     "data": {
      "text/plain": [
       "{'database': 'postgresql', 'language': 'python', 'library': 'pandas'}"
      ]
     },
     "execution_count": 58,
     "metadata": {},
     "output_type": "execute_result"
    }
   ],
   "source": [
    "job_type_skills"
   ]
  },
  {
   "cell_type": "code",
   "execution_count": 59,
   "id": "d62be1ea-9c65-4641-bbf7-54213351737e",
   "metadata": {},
   "outputs": [
    {
     "data": {
      "text/plain": [
       "'python'"
      ]
     },
     "execution_count": 59,
     "metadata": {},
     "output_type": "execute_result"
    }
   ],
   "source": [
    "job_type_skills['language']"
   ]
  },
  {
   "cell_type": "code",
   "execution_count": 60,
   "id": "44c0a1ad-c3e1-41d1-ae81-fee16ac609f9",
   "metadata": {},
   "outputs": [
    {
     "data": {
      "text/plain": [
       "dict_keys(['database', 'language', 'library'])"
      ]
     },
     "execution_count": 60,
     "metadata": {},
     "output_type": "execute_result"
    }
   ],
   "source": [
    "job_type_skills.keys()"
   ]
  },
  {
   "cell_type": "code",
   "execution_count": 61,
   "id": "133384da-6358-40e7-8fa2-1696967a9929",
   "metadata": {},
   "outputs": [
    {
     "data": {
      "text/plain": [
       "dict_values(['postgresql', 'python', 'pandas'])"
      ]
     },
     "execution_count": 61,
     "metadata": {},
     "output_type": "execute_result"
    }
   ],
   "source": [
    "job_type_skills.values()"
   ]
  },
  {
   "cell_type": "code",
   "execution_count": 62,
   "id": "a5af6ca0-d69a-487c-9a72-7fed83035d9a",
   "metadata": {},
   "outputs": [
    {
     "data": {
      "text/plain": [
       "'postgresql'"
      ]
     },
     "execution_count": 62,
     "metadata": {},
     "output_type": "execute_result"
    }
   ],
   "source": [
    "job_type_skills.pop('database')"
   ]
  },
  {
   "cell_type": "code",
   "execution_count": 63,
   "id": "b3bab5e1-1e94-4812-bc98-9d5e46ae61d3",
   "metadata": {},
   "outputs": [
    {
     "data": {
      "text/plain": [
       "{'language': 'python', 'library': 'pandas'}"
      ]
     },
     "execution_count": 63,
     "metadata": {},
     "output_type": "execute_result"
    }
   ],
   "source": [
    "job_type_skills"
   ]
  },
  {
   "cell_type": "code",
   "execution_count": 64,
   "id": "9486d658-d54b-4640-9dcb-08c1f5bd0540",
   "metadata": {},
   "outputs": [],
   "source": [
    "job_type_skills.update({\"cloud\" : \"AWS\"})"
   ]
  },
  {
   "cell_type": "code",
   "execution_count": 65,
   "id": "68adbef9-a69c-402b-b1ab-74f1bfa50b5d",
   "metadata": {},
   "outputs": [
    {
     "data": {
      "text/plain": [
       "{'language': 'python', 'library': 'pandas', 'cloud': 'AWS'}"
      ]
     },
     "execution_count": 65,
     "metadata": {},
     "output_type": "execute_result"
    }
   ],
   "source": [
    "job_type_skills"
   ]
  },
  {
   "cell_type": "code",
   "execution_count": 66,
   "id": "fe79a508-65b7-4cd3-9a81-2d2d4caefe45",
   "metadata": {},
   "outputs": [],
   "source": [
    "job_type_skills[\"version_control\"] = \"git\""
   ]
  },
  {
   "cell_type": "code",
   "execution_count": 67,
   "id": "63120fb2-35b7-4cd1-8452-d7abedd6cbf3",
   "metadata": {},
   "outputs": [
    {
     "data": {
      "text/plain": [
       "{'language': 'python',\n",
       " 'library': 'pandas',\n",
       " 'cloud': 'AWS',\n",
       " 'version_control': 'git'}"
      ]
     },
     "execution_count": 67,
     "metadata": {},
     "output_type": "execute_result"
    }
   ],
   "source": [
    "job_type_skills"
   ]
  },
  {
   "cell_type": "code",
   "execution_count": 68,
   "id": "b25b1eee-f40b-4b62-ac22-6da6fb20ad2a",
   "metadata": {},
   "outputs": [],
   "source": [
    "job_type_skills[\"language\"]= 'sql','python'\n"
   ]
  },
  {
   "cell_type": "code",
   "execution_count": 69,
   "id": "f4c97573-c95d-49d8-a09c-dd8f776b2eae",
   "metadata": {},
   "outputs": [
    {
     "data": {
      "text/plain": [
       "{'language': ('sql', 'python'),\n",
       " 'library': 'pandas',\n",
       " 'cloud': 'AWS',\n",
       " 'version_control': 'git'}"
      ]
     },
     "execution_count": 69,
     "metadata": {},
     "output_type": "execute_result"
    }
   ],
   "source": [
    "job_type_skills"
   ]
  },
  {
   "cell_type": "code",
   "execution_count": 70,
   "id": "bc0a034b-25d2-43db-8cd9-a83ccf85f50e",
   "metadata": {},
   "outputs": [
    {
     "data": {
      "text/plain": [
       "['python', 'r', 'power_bi', 'python', 'looker', 'sql']"
      ]
     },
     "execution_count": 70,
     "metadata": {},
     "output_type": "execute_result"
    }
   ],
   "source": [
    "all_skills"
   ]
  },
  {
   "cell_type": "code",
   "execution_count": 71,
   "id": "c23f68fa-957d-4f5d-942f-96c449f6e804",
   "metadata": {},
   "outputs": [],
   "source": [
    "all_unique =set(all_skills)  #unique items "
   ]
  },
  {
   "cell_type": "code",
   "execution_count": 72,
   "id": "a581c3ad-1620-4c56-bf42-9fd9f2cf30ac",
   "metadata": {},
   "outputs": [
    {
     "data": {
      "text/plain": [
       "{'looker', 'power_bi', 'python', 'r', 'sql'}"
      ]
     },
     "execution_count": 72,
     "metadata": {},
     "output_type": "execute_result"
    }
   ],
   "source": [
    "all_unique"
   ]
  },
  {
   "cell_type": "code",
   "execution_count": 73,
   "id": "1426f55e-765c-430d-bf66-14a97ec94ec6",
   "metadata": {},
   "outputs": [],
   "source": [
    "all_unique.add('stats')"
   ]
  },
  {
   "cell_type": "code",
   "execution_count": 74,
   "id": "4aa13347-a5c1-468f-bbe6-1f0468c8b5b1",
   "metadata": {},
   "outputs": [
    {
     "data": {
      "text/plain": [
       "'power_bi'"
      ]
     },
     "execution_count": 74,
     "metadata": {},
     "output_type": "execute_result"
    }
   ],
   "source": [
    "all_unique.pop()"
   ]
  },
  {
   "cell_type": "code",
   "execution_count": 75,
   "id": "29b2ea88-60de-446c-83cb-a6ec88f85afb",
   "metadata": {},
   "outputs": [
    {
     "data": {
      "text/plain": [
       "{'looker', 'python', 'r', 'sql', 'stats'}"
      ]
     },
     "execution_count": 75,
     "metadata": {},
     "output_type": "execute_result"
    }
   ],
   "source": [
    "all_unique"
   ]
  },
  {
   "cell_type": "code",
   "execution_count": 76,
   "id": "434a0f13-9415-4188-82c8-16a6385f49e4",
   "metadata": {},
   "outputs": [
    {
     "ename": "KeyError",
     "evalue": "'power_bi'",
     "output_type": "error",
     "traceback": [
      "\u001b[0;31m---------------------------------------------------------------------------\u001b[0m",
      "\u001b[0;31mKeyError\u001b[0m                                  Traceback (most recent call last)",
      "Cell \u001b[0;32mIn[76], line 2\u001b[0m\n\u001b[1;32m      1\u001b[0m \u001b[38;5;66;03m#to remove specifi value\u001b[39;00m\n\u001b[0;32m----> 2\u001b[0m all_unique\u001b[38;5;241m.\u001b[39mremove(\u001b[38;5;124m\"\u001b[39m\u001b[38;5;124mpower_bi\u001b[39m\u001b[38;5;124m\"\u001b[39m)\n",
      "\u001b[0;31mKeyError\u001b[0m: 'power_bi'"
     ]
    }
   ],
   "source": [
    "#to remove specifi value\n",
    "all_unique.remove(\"power_bi\")"
   ]
  },
  {
   "cell_type": "code",
   "execution_count": null,
   "id": "f5121d71-776a-4a4a-829b-de342a077af7",
   "metadata": {},
   "outputs": [],
   "source": [
    "all_unique"
   ]
  },
  {
   "cell_type": "code",
   "execution_count": null,
   "id": "92fb6a71-bf2e-4c8e-94fb-0c7259fbf5ae",
   "metadata": {},
   "outputs": [],
   "source": [
    "#TUPLES"
   ]
  },
  {
   "cell_type": "code",
   "execution_count": null,
   "id": "fa32f08f-4c1c-4c8b-a3c0-70871c8eedb1",
   "metadata": {},
   "outputs": [],
   "source": [
    "#Tuples are for fixed data, tuples are not mutable that means we cannot add and remove an item from a tuple,.. \n",
    "#this is called tuples are immutable\n",
    "#tuples are indexed, we can accessa by indexing, slicing\n"
   ]
  },
  {
   "cell_type": "code",
   "execution_count": null,
   "id": "0ec925ee-c689-4c50-b530-1625f866f96e",
   "metadata": {},
   "outputs": [],
   "source": [
    "luke_skills =('sql','python')"
   ]
  },
  {
   "cell_type": "code",
   "execution_count": null,
   "id": "98628ef5-fa07-488a-bd74-959bdfa78e59",
   "metadata": {},
   "outputs": [],
   "source": [
    "missing_skills =('tableu', 'looker')\n",
    "#now we need to add these missing skills to lukes skills.\n",
    "#we cannot directly append in to the lukeskills but we can add them and create a new tuple see below\n",
    "luke_all_skills = luke_skills+missing_skills\n",
    "luke_all_skills"
   ]
  },
  {
   "cell_type": "code",
   "execution_count": null,
   "id": "37ba2078-b550-4a3d-bd1f-2c77f1b20914",
   "metadata": {},
   "outputs": [],
   "source": [
    "range(5)"
   ]
  },
  {
   "cell_type": "code",
   "execution_count": null,
   "id": "a4f0bc8f-72e2-4ab5-aecd-0f199a1aa535",
   "metadata": {},
   "outputs": [],
   "source": [
    "tuple(range(5))"
   ]
  },
  {
   "cell_type": "code",
   "execution_count": null,
   "id": "a930422a-efef-4f57-a7bb-eca184275f40",
   "metadata": {},
   "outputs": [],
   "source": [
    "tuple(range(1,5))"
   ]
  },
  {
   "cell_type": "code",
   "execution_count": null,
   "id": "993bfb22-fa4d-49b2-8c8d-be916d529f77",
   "metadata": {},
   "outputs": [],
   "source": [
    "tuple(range(1,20,2))\n"
   ]
  },
  {
   "cell_type": "code",
   "execution_count": null,
   "id": "81bd7a31-1231-46de-b481-8fdde9bad9e5",
   "metadata": {},
   "outputs": [],
   "source": [
    "#list Comprehensions -  This is basically a combinaton of list and loops"
   ]
  },
  {
   "cell_type": "code",
   "execution_count": null,
   "id": "be29b607-bc5b-467c-9e5e-00c97bf09869",
   "metadata": {},
   "outputs": [],
   "source": [
    "numbers =[x for x in range(10)]   #define the list[], variable to put in the list, now we need to usa lopo to iterate through"
   ]
  },
  {
   "cell_type": "code",
   "execution_count": null,
   "id": "a9f96283-c16b-46d1-91d8-24482b1ead92",
   "metadata": {},
   "outputs": [],
   "source": [
    "numbers"
   ]
  },
  {
   "cell_type": "code",
   "execution_count": null,
   "id": "3e65a143-4400-4d94-95a3-6dc3ab0f58c6",
   "metadata": {},
   "outputs": [],
   "source": [
    "multipy =[x*2 for x in range(10)] "
   ]
  },
  {
   "cell_type": "code",
   "execution_count": null,
   "id": "708176b0-e10a-4208-9581-7897e79642d8",
   "metadata": {},
   "outputs": [],
   "source": [
    "multipy"
   ]
  },
  {
   "cell_type": "code",
   "execution_count": null,
   "id": "6c1eee6f-781b-4170-9349-15ecfb1c5a58",
   "metadata": {},
   "outputs": [],
   "source": [
    "#we can also iterate through tuples,sets,dict"
   ]
  },
  {
   "cell_type": "code",
   "execution_count": null,
   "id": "ad90dc12-af13-4e77-a5d8-30663323b7e9",
   "metadata": {},
   "outputs": [],
   "source": [
    "comprehension_set = {x for x in 'pythonpp'}"
   ]
  },
  {
   "cell_type": "code",
   "execution_count": null,
   "id": "15d63d4e-87e6-40f5-a892-aeaed40e9300",
   "metadata": {},
   "outputs": [],
   "source": [
    "comprehension_set"
   ]
  },
  {
   "cell_type": "code",
   "execution_count": null,
   "id": "920ffaea-b950-4d31-adb7-c6f6a92f2bb3",
   "metadata": {},
   "outputs": [],
   "source": [
    "# #for example : we can do this as \n",
    "# analyst_list= []\n",
    "# for job in job_list:\n",
    "#     if \"data analyst\" in job:\n",
    "#         analyst_list.append(job)"
   ]
  },
  {
   "cell_type": "code",
   "execution_count": null,
   "id": "9f19b75b-5513-4113-a8c6-0ff0842ff227",
   "metadata": {},
   "outputs": [],
   "source": [
    "#analyst_list = [job for job in job_list if \"data analyst\" in job]"
   ]
  },
  {
   "cell_type": "code",
   "execution_count": null,
   "id": "80ff303d-90e2-4452-92e4-ab76b8dd0832",
   "metadata": {},
   "outputs": [],
   "source": [
    "job_titles = [\n",
    "    \"Data Scientist\", \"Machine Learning Engineer\", \"Data Analyst\", \"Business Analyst\",\n",
    "    \"AI Researcher\", \"Data Engineer\", \"Statistician\", \"Big Data Specialist\",\n",
    "    \"Quantitative Analyst\", \"Operations Analyst\", \"Research Scientist\", \"BI Developer\",\n",
    "    \"Data Architect\", \"Deep Learning Engineer\", \"Predictive Modeler\", \"Marketing Analyst\",\n",
    "    \"Product Data Scientist\", \"Risk Analyst\", \"Supply Chain Analyst\", \"Data Visualization Specialist\",\n",
    "    \"Analytics Manager\", \"Data Strategist\", \"Fraud Analyst\", \"Customer Insights Analyst\",\n",
    "    \"Clinical Data Analyst\", \"IoT Data Scientist\", \"Financial Analyst\", \"HR Analyst\",\n",
    "    \"Economist\", \"Sports Data Analyst\", \"Healthcare Data Scientist\", \"NLP Engineer\",\n",
    "    \"Computer Vision Engineer\", \"Data Quality Analyst\", \"Causal Inference Specialist\", \"Survey Statistician\",\n",
    "    \"Policy Data Analyst\", \"Actuary\", \"Geospatial Data Analyst\", \"Data Governance Specialist\",\n",
    "    \"Data Operations Manager\", \"AI Ethicist\", \"Simulation Modeler\", \"Data Wrangler\",\n",
    "    \"Experimentation Engineer\", \"Optimization Analyst\", \"Behavioral Data Analyst\", \"Gaming Data Analyst\",\n",
    "    \"Customer Data Specialist\", \"Data Storyteller\", \"Ad Optimization Analyst\", \"Database Administrator\",\n",
    "    \"ETL Developer\", \"Personalization Analyst\", \"Cybersecurity Data Scientist\", \"Data Mining Specialist\",\n",
    "    \"Web Analyst\", \"Sensor Data Scientist\", \"Streaming Data Engineer\", \"Sales Data Analyst\",\n",
    "    \"E-commerce Data Analyst\", \"Education Data Analyst\", \"Performance Analyst\", \"Social Media Analyst\",\n",
    "    \"Network Data Scientist\", \"Real-Time Data Analyst\", \"Energy Data Scientist\", \"Video Analytics Specialist\",\n",
    "    \"Climate Data Scientist\", \"Text Mining Specialist\", \"Portfolio Analyst\", \"Graph Data Specialist\",\n",
    "    \"Data Privacy Analyst\", \"Insurance Data Scientist\", \"Data Automation Engineer\", \"Quantitative Developer\",\n",
    "    \"Digital Marketing Analyst\", \"SEO Data Analyst\", \"Voice Data Analyst\", \"AI Product Manager\",\n",
    "    \"Embedded Data Scientist\", \"Robotics Data Analyst\", \"Genomics Data Scientist\", \"Algorithm Developer\",\n",
    "    \"Churn Analyst\", \"Customer Success Analyst\", \"Content Recommendation Analyst\", \"Growth Analyst\",\n",
    "    \"Data Ethics Specialist\", \"Logistics Data Analyst\", \"Conversion Rate Optimization Analyst\",\n",
    "    \"Search Engine Data Scientist\", \"Market Research Analyst\", \"Public Policy Data Scientist\",\n",
    "    \"Data Collection Specialist\", \"Transportation Data Scientist\", \"Auditor Data Specialist\", \"Pricing Analyst\"\n",
    "]\n"
   ]
  },
  {
   "cell_type": "code",
   "execution_count": null,
   "id": "73b03008-bc82-4b77-aebd-9e2d5e519f79",
   "metadata": {},
   "outputs": [],
   "source": [
    "job_roles = [\n",
    "    {\"role\": \"Data Analyst\", \"skills\": [\"SQL\", \"Python\", \"Power BI\"]},\n",
    "    {\"role\": \"Data Scientist\", \"skills\": [\"Python\", \"Machine Learning\", \"R\"]},\n",
    "    {\"role\": \"Machine Learning Engineer\", \"skills\": [\"TensorFlow\", \"Python\", \"PyTorch\"]},\n",
    "    {\"role\": \"Data Engineer\", \"skills\": [\"ETL\", \"SQL\", \"Spark\"]},\n",
    "    {\"role\": \"Business Analyst\", \"skills\": [\"Excel\", \"Power BI\", \"Tableau\"]},\n",
    "    {\"role\": \"AI Researcher\", \"skills\": [\"Deep Learning\", \"Python\", \"NLP\"]},\n",
    "    {\"role\": \"Statistician\", \"skills\": [\"Statistics\", \"R\", \"SPSS\"]},\n",
    "    {\"role\": \"Big Data Specialist\", \"skills\": [\"Hadoop\", \"Spark\", \"Scala\"]},\n",
    "    {\"role\": \"Quantitative Analyst\", \"skills\": [\"Quantitative Analysis\", \"Python\", \"Excel\"]},\n",
    "    {\"role\": \"Operations Analyst\", \"skills\": [\"Operations Research\", \"SQL\", \"Python\"]},\n",
    "    {\"role\": \"Research Scientist\", \"skills\": [\"Python\", \"Data Analysis\", \"Modeling\"]},\n",
    "    {\"role\": \"BI Developer\", \"skills\": [\"SSRS\", \"SQL\", \"Power BI\"]},\n",
    "    {\"role\": \"Data Architect\", \"skills\": [\"Data Modeling\", \"SQL\", \"AWS\"]},\n",
    "    {\"role\": \"Deep Learning Engineer\", \"skills\": [\"Keras\", \"TensorFlow\", \"Python\"]},\n",
    "    {\"role\": \"Predictive Modeler\", \"skills\": [\"Machine Learning\", \"Python\", \"R\"]},\n",
    "    {\"role\": \"Marketing Analyst\", \"skills\": [\"Google Analytics\", \"Excel\", \"SQL\"]},\n",
    "    {\"role\": \"Product Data Scientist\", \"skills\": [\"Python\", \"Product Analytics\", \"A/B Testing\"]},\n",
    "    {\"role\": \"Risk Analyst\", \"skills\": [\"Risk Management\", \"SQL\", \"R\"]},\n",
    "    {\"role\": \"Supply Chain Analyst\", \"skills\": [\"Supply Chain Management\", \"Python\", \"Tableau\"]},\n",
    "    {\"role\": \"Data Visualization Specialist\", \"skills\": [\"Tableau\", \"Power BI\", \"Excel\"]},\n",
    "    {\"role\": \"Analytics Manager\", \"skills\": [\"Data Strategy\", \"SQL\", \"Python\"]},\n",
    "    {\"role\": \"Fraud Analyst\", \"skills\": [\"Fraud Detection\", \"SQL\", \"Python\"]},\n",
    "    {\"role\": \"Customer Insights Analyst\", \"skills\": [\"Customer Data\", \"Tableau\", \"SQL\"]},\n",
    "    {\"role\": \"Clinical Data Analyst\", \"skills\": [\"Clinical Data\", \"R\", \"Python\"]},\n",
    "    {\"role\": \"IoT Data Scientist\", \"skills\": [\"IoT Analytics\", \"Python\", \"Cloud Computing\"]},\n",
    "    {\"role\": \"Financial Analyst\", \"skills\": [\"Financial Modeling\", \"Excel\", \"SQL\"]},\n",
    "    {\"role\": \"HR Analyst\", \"skills\": [\"People Analytics\", \"Excel\", \"Tableau\"]},\n",
    "    {\"role\": \"Economist\", \"skills\": [\"Economics\", \"R\", \"Python\"]},\n",
    "    {\"role\": \"Sports Data Analyst\", \"skills\": [\"Sports Statistics\", \"Python\", \"Tableau\"]},\n",
    "    {\"role\": \"Healthcare Data Scientist\", \"skills\": [\"Healthcare Analytics\", \"Python\", \"R\"]},\n",
    "    {\"role\": \"NLP Engineer\", \"skills\": [\"NLP\", \"Python\", \"SpaCy\"]},\n",
    "    {\"role\": \"Computer Vision Engineer\", \"skills\": [\"OpenCV\", \"Deep Learning\", \"Python\"]},\n",
    "    {\"role\": \"Data Quality Analyst\", \"skills\": [\"Data Cleansing\", \"SQL\", \"Python\"]},\n",
    "    {\"role\": \"Survey Statistician\", \"skills\": [\"Survey Analysis\", \"R\", \"Python\"]},\n",
    "    {\"role\": \"Policy Data Analyst\", \"skills\": [\"Policy Analysis\", \"Python\", \"Excel\"]},\n",
    "    {\"role\": \"Actuary\", \"skills\": [\"Actuarial Science\", \"Excel\", \"R\"]},\n",
    "    {\"role\": \"Geospatial Data Analyst\", \"skills\": [\"GIS\", \"Python\", \"QGIS\"]},\n",
    "    {\"role\": \"Data Governance Specialist\", \"skills\": [\"Data Governance\", \"SQL\", \"Excel\"]},\n",
    "    {\"role\": \"AI Ethicist\", \"skills\": [\"AI Ethics\", \"Policy\", \"Python\"]},\n",
    "    {\"role\": \"Simulation Modeler\", \"skills\": [\"Simulation\", \"Python\", \"R\"]},\n",
    "    {\"role\": \"Optimization Analyst\", \"skills\": [\"Optimization\", \"Python\", \"Linear Programming\"]},\n",
    "    {\"role\": \"Gaming Data Analyst\", \"skills\": [\"Game Analytics\", \"SQL\", \"Python\"]},\n",
    "    {\"role\": \"Customer Data Specialist\", \"skills\": [\"Customer Insights\", \"Excel\", \"SQL\"]},\n",
    "    {\"role\": \"Ad Optimization Analyst\", \"skills\": [\"Ad Analytics\", \"Google Ads\", \"Excel\"]},\n",
    "    {\"role\": \"Web Analyst\", \"skills\": [\"Web Analytics\", \"Google Analytics\", \"Excel\"]},\n",
    "    {\"role\": \"Cybersecurity Data Scientist\", \"skills\": [\"Cybersecurity\", \"Python\", \"Machine Learning\"]},\n",
    "    {\"role\": \"Energy Data Scientist\", \"skills\": [\"Energy Analytics\", \"Python\", \"Excel\"]},\n",
    "    {\"role\": \"Portfolio Analyst\", \"skills\": [\"Portfolio Management\", \"Excel\", \"Python\"]},\n",
    "    {\"role\": \"Insurance Data Scientist\", \"skills\": [\"Insurance Data\", \"Python\", \"SQL\"]},\n",
    "    {\"role\": \"Search Engine Data Scientist\", \"skills\": [\"Search Engine Optimization\", \"Python\", \"SQL\"]},\n",
    "    {\"role\": \"Logistics Data Analyst\", \"skills\": [\"Logistics Analytics\", \"Python\", \"Excel\"]},\n",
    "    {\"role\": \"Conversion Rate Optimization Analyst\", \"skills\": [\"Conversion Analytics\", \"Excel\", \"Python\"]},\n",
    "    {\"role\": \"Market Research Analyst\", \"skills\": [\"Market Analysis\", \"Excel\", \"Tableau\"]},\n",
    "    {\"role\": \"Data Collection Specialist\", \"skills\": [\"Data Collection\", \"Python\", \"Excel\"]},\n",
    "    {\"role\": \"Transportation Data Scientist\", \"skills\": [\"Transportation Analytics\", \"Python\", \"Excel\"]},\n",
    "    {\"role\": \"Auditor Data Specialist\", \"skills\": [\"Data Auditing\", \"Excel\", \"SQL\"]},\n",
    "    {\"role\": \"Pricing Analyst\", \"skills\": [\"Pricing Analytics\", \"Excel\", \"SQL\"]},\n",
    "    {\"role\": \"Video Analytics Specialist\", \"skills\": [\"Video Analysis\", \"Python\", \"OpenCV\"]},\n",
    "    {\"role\": \"Text Mining Specialist\", \"skills\": [\"Text Mining\", \"NLP\", \"Python\"]},\n",
    "    {\"role\": \"Voice Data Analyst\", \"skills\": [\"Voice Recognition\", \"Python\", \"NLP\"]},\n",
    "    {\"role\": \"Graph Data Specialist\", \"skills\": [\"Graph Analysis\", \"Python\", \"NetworkX\"]},\n",
    "    {\"role\": \"Genomics Data Scientist\", \"skills\": [\"Genomics\", \"Python\", \"R\"]},\n",
    "    {\"role\": \"Algorithm Developer\", \"skills\": [\"Algorithms\", \"Python\", \"C++\"]},\n",
    "    {\"role\": \"AI Product Manager\", \"skills\": [\"Product Management\", \"AI\", \"SQL\"]},\n",
    "    {\"role\": \"SEO Data Analyst\", \"skills\": [\"SEO\", \"Google Analytics\", \"Python\"]}\n",
    "]\n",
    "# Add more roles similarly if you need to reach exactly 150.\n"
   ]
  },
  {
   "cell_type": "code",
   "execution_count": null,
   "id": "e71420b0-8d3c-4552-a4c4-f854847c4043",
   "metadata": {},
   "outputs": [],
   "source": [
    "My_skills = [\"SQL\", \"Python\", \"Power BI\"]\n",
    "qualified_roles = []\n",
    "for job in job_roles:\n",
    "    qualified = True\n",
    "    for skill in My_skills:\n",
    "        if skill not in job[\"skills\"]:\n",
    "           qualified =False\n",
    "           break\n",
    "    if qualified:\n",
    "        qualified_roles.append(job[\"role\"])\n",
    "\n",
    "qualified_roles"
   ]
  },
  {
   "cell_type": "code",
   "execution_count": null,
   "id": "7de7680f-d243-4c4f-b77a-b432807ca56e",
   "metadata": {},
   "outputs": [],
   "source": [
    "mul = lambda x: x*2  # lambda arguments :expression  and assign this function to a variable name and we can use it \n",
    "#so here we are assigning lambda function a variable name  mul and call the function"
   ]
  },
  {
   "cell_type": "code",
   "execution_count": null,
   "id": "06dba574-2594-49dc-9c83-b2f56da38af4",
   "metadata": {},
   "outputs": [],
   "source": [
    "mul (2)"
   ]
  },
  {
   "cell_type": "code",
   "execution_count": null,
   "id": "1b16c21c-eac3-4798-a777-d537896d31fa",
   "metadata": {},
   "outputs": [],
   "source": [
    "# we can also write like this \n",
    "(lambda x : x*2)(3)"
   ]
  },
  {
   "cell_type": "code",
   "execution_count": null,
   "id": "2a6c9ff1-d846-4c07-8ad8-24ea4964bbb6",
   "metadata": {},
   "outputs": [],
   "source": [
    "# we can also provide multiple arguments in this case \n",
    "(lambda x,y :(x+y,x*y))(2,4)"
   ]
  },
  {
   "cell_type": "code",
   "execution_count": null,
   "id": "ea2fd101-6019-4eab-951d-bdc7c18c2764",
   "metadata": {},
   "outputs": [],
   "source": [
    "base_salary  = 100000\n",
    "bonus_rate = 0.1\n",
    "total_salary = base_salary*(1+bonus_rate)\n",
    "total_salary\n",
    "#now if we have bunch of differerent salries and bunch of different rates \n",
    "#wehave tp calculate total salry for each of the item we have itereate the list of items\n",
    "def calculate_salary():\n",
    "    base_salary  = 100000\n",
    "    bonus_rate = 0.1 \n",
    "    total_salary = base_salary*(1+bonus_rate)\n",
    "    return total_salary \n"
   ]
  },
  {
   "cell_type": "code",
   "execution_count": null,
   "id": "4b13643c-b7cc-4237-bbe4-8b47f85d7268",
   "metadata": {},
   "outputs": [],
   "source": [
    "calculate_salary()"
   ]
  },
  {
   "cell_type": "code",
   "execution_count": null,
   "id": "d3d74b3b-139b-4d26-a8b3-ef30aa6b0b8d",
   "metadata": {},
   "outputs": [],
   "source": [
    "base_salary  = 100000\n",
    "bonus_rate = 0.1\n",
    "def calculate_salary(base_salary,bonus_rate):\n",
    "    total_salary = base_salary*(1+bonus_rate)\n",
    "    return total_salary ;"
   ]
  },
  {
   "cell_type": "code",
   "execution_count": null,
   "id": "545a3742-42a6-48a6-9a98-b6e0b0cfc46f",
   "metadata": {},
   "outputs": [],
   "source": [
    "calculate_salary(base_salary,bonus_rate)"
   ]
  },
  {
   "cell_type": "code",
   "execution_count": null,
   "id": "6297d389-05a1-4961-a365-b79e6b6a24a2",
   "metadata": {},
   "outputs": [],
   "source": [
    "def calc_sal(base_sal,bonus_rate=0.1):\n",
    "    total_salary = base_sal*(1+bonus_rate)\n",
    "    return total_salary"
   ]
  },
  {
   "cell_type": "code",
   "execution_count": null,
   "id": "9e1079d3-18ad-442f-8ab6-68d11fbe95ad",
   "metadata": {},
   "outputs": [],
   "source": [
    "calc_sal(120000)"
   ]
  },
  {
   "cell_type": "code",
   "execution_count": null,
   "id": "75b10b2d-55fc-4fc6-91d2-ce9c1ef72721",
   "metadata": {},
   "outputs": [],
   "source": [
    "base_salary = [12,34,20]\n",
    "total_salary_list = []\n",
    "\n",
    "def calc_sal(base_salary,bonus_rate=1):\n",
    "   for salary in base_salary:\n",
    "       total_salary = salary*(1+bonus_rate)\n",
    "       total_salary_list.append(total_salary)\n",
    "   return total_salary_list\n",
    "calc_sal(base_salary)"
   ]
  },
  {
   "cell_type": "code",
   "execution_count": null,
   "id": "85719ee3-53e3-45b2-b903-10e18661200c",
   "metadata": {},
   "outputs": [],
   "source": [
    "#using list comprehension\n",
    "salaries_list = [5000,2000,6000,4000]\n",
    "bonus_amount = 1000\n",
    "def cal_total(base_salary,bonus=0.5):\n",
    "    return base_salary*(1+bonus)\n",
    "\n",
    "\n",
    "total_salary_list =[cal_total(salary) for salary in salaries_list]\n",
    "total_salary_list"
   ]
  },
  {
   "cell_type": "code",
   "execution_count": null,
   "id": "38934e0a-8d5f-431d-be0e-6956e310c3e0",
   "metadata": {},
   "outputs": [],
   "source": [
    "jobs_data = [\n",
    "    {\n",
    "        \"job_title\": \"Data Scientist\",\n",
    "        \"job_skills\": [\"Python\", \"Machine Learning\", \"SQL\", \"Data Visualization\"],\n",
    "        \"remote\": True\n",
    "    },{\n",
    "        \"job_title\": \"Data Analyst\",\n",
    "        \"job_skills\": [\"Excel\", \"SQL\", \"Power BI\", \"Data Cleaning\"],\n",
    "        \"remote\": False},\n",
    "    {\n",
    "        \"job_title\": \"Machine Learning Engineer\",\n",
    "        \"job_skills\": [\"Python\", \"TensorFlow\", \"Deep Learning\", \"Model Deployment\"],\n",
    "        \"remote\": True\n",
    "    },\n",
    "    {\n",
    "        \"job_title\": \"Business Intelligence Analyst\",\n",
    "        \"job_skills\": [\"SQL\", \"Tableau\", \"Data Modeling\", \"Business Analysis\"],\n",
    "        \"remote\": False\n",
    "    },\n",
    "    {\n",
    "        \"job_title\": \"Data Engineer\",\n",
    "        \"job_skills\": [\"Python\", \"Spark\", \"ETL\", \"Big Data\"],\n",
    "        \"remote\": True\n",
    "    },\n",
    "    {\n",
    "        \"job_title\": \"Statistician\",\n",
    "        \"job_skills\": [\"R\", \"Statistics\", \"Hypothesis Testing\", \"Data Analysis\"],\n",
    "        \"remote\": False\n",
    "    },\n",
    "    {\n",
    "        \"job_title\": \"AI Researcher\",\n",
    "        \"job_skills\": [\"Python\", \"NLP\", \"Deep Learning\", \"Research\"],\n",
    "        \"remote\": True\n",
    "    },\n",
    "    {\n",
    "        \"job_title\": \"Data Architect\",\n",
    "        \"job_skills\": [\"Database Design\", \"SQL\", \"Cloud Computing\", \"Data Security\"],\n",
    "        \"remote\": False\n",
    "    },\n",
    "    {\n",
    "        \"job_title\": \"Product Analyst\",\n",
    "        \"job_skills\": [\"SQL\", \"A/B Testing\", \"Python\", \"Market Analysis\"],\n",
    "        \"remote\": True\n",
    "    },\n",
    "    {\n",
    "        \"job_title\": \"Big Data Analyst\",\n",
    "        \"job_skills\": [\"Hadoop\", \"Spark\", \"Data Mining\", \"Scala\"],\n",
    "        \"remote\": False\n",
    "    }\n",
    "]\n"
   ]
  },
  {
   "cell_type": "code",
   "execution_count": null,
   "id": "6560d9bc-fb1e-4a53-90b2-713a472647a2",
   "metadata": {},
   "outputs": [],
   "source": [
    "remote_jobs = list(filter(lambda job :job[\"remote\"],jobs_data))\n",
    "print(remote_jobs)\n"
   ]
  },
  {
   "cell_type": "code",
   "execution_count": null,
   "id": "5d0e98fa-fcd1-47e9-b5bf-2052fd4681bb",
   "metadata": {},
   "outputs": [],
   "source": [
    "# Example dictionary for jobs_data\n",
    "jobs_data = [\n",
    "    {\"job_title\": \"Data Scientist\", \"job_skills\": [\"Python\", \"SQL\", \"Machine Learning\"], \"remote\": True},\n",
    "    {\"job_title\": \"Data Analyst\", \"job_skills\": [\"Excel\", \"SQL\", \"Tableau\"], \"remote\": False},\n",
    "    {\"job_title\": \"Machine Learning Engineer\", \"job_skills\": [\"Python\", \"Deep Learning\"], \"remote\": True},\n",
    "    {\"job_title\": \"Business Analyst\", \"job_skills\": [\"SQL\", \"Power BI\"], \"remote\": False}\n",
    "]\n",
    "\n",
    "# Using filter to get remote jobs\n",
    "remote_jobs = list(filter(lambda job: job[\"remote\"], jobs_data))\n",
    "\n",
    "# Displaying the remote jobs\n",
    "print(remote_jobs)\n"
   ]
  },
  {
   "cell_type": "code",
   "execution_count": null,
   "id": "784a19c4-0b66-439c-a7b4-ce31f614a396",
   "metadata": {},
   "outputs": [],
   "source": [
    "\n",
    "# Using filter to get remote jobs and python should be in job skills \n",
    "remote_jobs = list(filter(lambda job: job[\"remote\"] and \"Python\" in job[\"job_skills\"], jobs_data))\n",
    "remote_jobs"
   ]
  },
  {
   "cell_type": "code",
   "execution_count": null,
   "id": "3b5c68d5-73d9-4953-bcb0-0fbfb8b1bc14",
   "metadata": {},
   "outputs": [],
   "source": [
    "import os\n",
    "os.getcwd()"
   ]
  },
  {
   "cell_type": "code",
   "execution_count": null,
   "id": "fbab4472-a6a4-46ce-b058-9d9a0526847e",
   "metadata": {},
   "outputs": [],
   "source": [
    "import my_modules "
   ]
  },
  {
   "cell_type": "code",
   "execution_count": null,
   "id": "726ef971-d6e3-4bce-95bd-a4218d6729c5",
   "metadata": {},
   "outputs": [],
   "source": [
    "my_modules.skill(\"python\")"
   ]
  },
  {
   "cell_type": "code",
   "execution_count": 225,
   "id": "3bbc05c3-9ea1-48d0-a251-b798916ca950",
   "metadata": {},
   "outputs": [],
   "source": [
    "import pandas as pd"
   ]
  },
  {
   "cell_type": "code",
   "execution_count": 227,
   "id": "ec0ce8a6-d64c-4139-8c8a-93ef678f2f2e",
   "metadata": {},
   "outputs": [],
   "source": [
    "df = pd.read_csv(\"/Users/jastisarika/Downloads/data_jobs.csv\")"
   ]
  },
  {
   "cell_type": "code",
   "execution_count": 228,
   "id": "bec5ab34-58f1-4530-b5c7-01068452300b",
   "metadata": {},
   "outputs": [
    {
     "data": {
      "text/html": [
       "<div>\n",
       "<style scoped>\n",
       "    .dataframe tbody tr th:only-of-type {\n",
       "        vertical-align: middle;\n",
       "    }\n",
       "\n",
       "    .dataframe tbody tr th {\n",
       "        vertical-align: top;\n",
       "    }\n",
       "\n",
       "    .dataframe thead th {\n",
       "        text-align: right;\n",
       "    }\n",
       "</style>\n",
       "<table border=\"1\" class=\"dataframe\">\n",
       "  <thead>\n",
       "    <tr style=\"text-align: right;\">\n",
       "      <th></th>\n",
       "      <th>job_title_short</th>\n",
       "      <th>job_title</th>\n",
       "      <th>job_location</th>\n",
       "      <th>job_via</th>\n",
       "      <th>job_schedule_type</th>\n",
       "      <th>job_work_from_home</th>\n",
       "      <th>search_location</th>\n",
       "      <th>job_posted_date</th>\n",
       "      <th>job_no_degree_mention</th>\n",
       "      <th>job_health_insurance</th>\n",
       "      <th>job_country</th>\n",
       "      <th>salary_rate</th>\n",
       "      <th>salary_year_avg</th>\n",
       "      <th>salary_hour_avg</th>\n",
       "      <th>company_name</th>\n",
       "      <th>job_skills</th>\n",
       "      <th>job_type_skills</th>\n",
       "    </tr>\n",
       "  </thead>\n",
       "  <tbody>\n",
       "    <tr>\n",
       "      <th>0</th>\n",
       "      <td>Senior Data Engineer</td>\n",
       "      <td>Senior Clinical Data Engineer / Principal Clin...</td>\n",
       "      <td>Watertown, CT</td>\n",
       "      <td>via Work Nearby</td>\n",
       "      <td>Full-time</td>\n",
       "      <td>False</td>\n",
       "      <td>Texas, United States</td>\n",
       "      <td>2023-06-16 13:44:15</td>\n",
       "      <td>False</td>\n",
       "      <td>False</td>\n",
       "      <td>United States</td>\n",
       "      <td>NaN</td>\n",
       "      <td>NaN</td>\n",
       "      <td>NaN</td>\n",
       "      <td>Boehringer Ingelheim</td>\n",
       "      <td>NaN</td>\n",
       "      <td>NaN</td>\n",
       "    </tr>\n",
       "    <tr>\n",
       "      <th>1</th>\n",
       "      <td>Data Analyst</td>\n",
       "      <td>Data Analyst</td>\n",
       "      <td>Guadalajara, Jalisco, Mexico</td>\n",
       "      <td>via BeBee México</td>\n",
       "      <td>Full-time</td>\n",
       "      <td>False</td>\n",
       "      <td>Mexico</td>\n",
       "      <td>2023-01-14 13:18:07</td>\n",
       "      <td>False</td>\n",
       "      <td>False</td>\n",
       "      <td>Mexico</td>\n",
       "      <td>NaN</td>\n",
       "      <td>NaN</td>\n",
       "      <td>NaN</td>\n",
       "      <td>Hewlett Packard Enterprise</td>\n",
       "      <td>['r', 'python', 'sql', 'nosql', 'power bi', 't...</td>\n",
       "      <td>{'analyst_tools': ['power bi', 'tableau'], 'pr...</td>\n",
       "    </tr>\n",
       "    <tr>\n",
       "      <th>2</th>\n",
       "      <td>Data Engineer</td>\n",
       "      <td>Data Engineer/Scientist/Analyst, Mid or Senior...</td>\n",
       "      <td>Berlin, Germany</td>\n",
       "      <td>via LinkedIn</td>\n",
       "      <td>Full-time</td>\n",
       "      <td>False</td>\n",
       "      <td>Germany</td>\n",
       "      <td>2023-10-10 13:14:55</td>\n",
       "      <td>False</td>\n",
       "      <td>False</td>\n",
       "      <td>Germany</td>\n",
       "      <td>NaN</td>\n",
       "      <td>NaN</td>\n",
       "      <td>NaN</td>\n",
       "      <td>ALPHA Augmented Services</td>\n",
       "      <td>['python', 'sql', 'c#', 'azure', 'airflow', 'd...</td>\n",
       "      <td>{'analyst_tools': ['dax'], 'cloud': ['azure'],...</td>\n",
       "    </tr>\n",
       "    <tr>\n",
       "      <th>3</th>\n",
       "      <td>Data Engineer</td>\n",
       "      <td>LEAD ENGINEER - PRINCIPAL ANALYST - PRINCIPAL ...</td>\n",
       "      <td>San Antonio, TX</td>\n",
       "      <td>via Diversity.com</td>\n",
       "      <td>Full-time</td>\n",
       "      <td>False</td>\n",
       "      <td>Texas, United States</td>\n",
       "      <td>2023-07-04 13:01:41</td>\n",
       "      <td>True</td>\n",
       "      <td>False</td>\n",
       "      <td>United States</td>\n",
       "      <td>NaN</td>\n",
       "      <td>NaN</td>\n",
       "      <td>NaN</td>\n",
       "      <td>Southwest Research Institute</td>\n",
       "      <td>['python', 'c++', 'java', 'matlab', 'aws', 'te...</td>\n",
       "      <td>{'cloud': ['aws'], 'libraries': ['tensorflow',...</td>\n",
       "    </tr>\n",
       "    <tr>\n",
       "      <th>4</th>\n",
       "      <td>Data Engineer</td>\n",
       "      <td>Data Engineer- Sr Jobs</td>\n",
       "      <td>Washington, DC</td>\n",
       "      <td>via Clearance Jobs</td>\n",
       "      <td>Full-time</td>\n",
       "      <td>False</td>\n",
       "      <td>Sudan</td>\n",
       "      <td>2023-08-07 14:29:36</td>\n",
       "      <td>False</td>\n",
       "      <td>False</td>\n",
       "      <td>Sudan</td>\n",
       "      <td>NaN</td>\n",
       "      <td>NaN</td>\n",
       "      <td>NaN</td>\n",
       "      <td>Kristina Daniel</td>\n",
       "      <td>['bash', 'python', 'oracle', 'aws', 'ansible',...</td>\n",
       "      <td>{'cloud': ['oracle', 'aws'], 'other': ['ansibl...</td>\n",
       "    </tr>\n",
       "  </tbody>\n",
       "</table>\n",
       "</div>"
      ],
      "text/plain": [
       "        job_title_short                                          job_title  \\\n",
       "0  Senior Data Engineer  Senior Clinical Data Engineer / Principal Clin...   \n",
       "1          Data Analyst                                       Data Analyst   \n",
       "2         Data Engineer  Data Engineer/Scientist/Analyst, Mid or Senior...   \n",
       "3         Data Engineer  LEAD ENGINEER - PRINCIPAL ANALYST - PRINCIPAL ...   \n",
       "4         Data Engineer                             Data Engineer- Sr Jobs   \n",
       "\n",
       "                   job_location             job_via job_schedule_type  \\\n",
       "0                 Watertown, CT     via Work Nearby         Full-time   \n",
       "1  Guadalajara, Jalisco, Mexico    via BeBee México         Full-time   \n",
       "2               Berlin, Germany        via LinkedIn         Full-time   \n",
       "3               San Antonio, TX   via Diversity.com         Full-time   \n",
       "4                Washington, DC  via Clearance Jobs         Full-time   \n",
       "\n",
       "   job_work_from_home       search_location      job_posted_date  \\\n",
       "0               False  Texas, United States  2023-06-16 13:44:15   \n",
       "1               False                Mexico  2023-01-14 13:18:07   \n",
       "2               False               Germany  2023-10-10 13:14:55   \n",
       "3               False  Texas, United States  2023-07-04 13:01:41   \n",
       "4               False                 Sudan  2023-08-07 14:29:36   \n",
       "\n",
       "   job_no_degree_mention  job_health_insurance    job_country salary_rate  \\\n",
       "0                  False                 False  United States         NaN   \n",
       "1                  False                 False         Mexico         NaN   \n",
       "2                  False                 False        Germany         NaN   \n",
       "3                   True                 False  United States         NaN   \n",
       "4                  False                 False          Sudan         NaN   \n",
       "\n",
       "   salary_year_avg  salary_hour_avg                  company_name  \\\n",
       "0              NaN              NaN          Boehringer Ingelheim   \n",
       "1              NaN              NaN    Hewlett Packard Enterprise   \n",
       "2              NaN              NaN      ALPHA Augmented Services   \n",
       "3              NaN              NaN  Southwest Research Institute   \n",
       "4              NaN              NaN               Kristina Daniel   \n",
       "\n",
       "                                          job_skills  \\\n",
       "0                                                NaN   \n",
       "1  ['r', 'python', 'sql', 'nosql', 'power bi', 't...   \n",
       "2  ['python', 'sql', 'c#', 'azure', 'airflow', 'd...   \n",
       "3  ['python', 'c++', 'java', 'matlab', 'aws', 'te...   \n",
       "4  ['bash', 'python', 'oracle', 'aws', 'ansible',...   \n",
       "\n",
       "                                     job_type_skills  \n",
       "0                                                NaN  \n",
       "1  {'analyst_tools': ['power bi', 'tableau'], 'pr...  \n",
       "2  {'analyst_tools': ['dax'], 'cloud': ['azure'],...  \n",
       "3  {'cloud': ['aws'], 'libraries': ['tensorflow',...  \n",
       "4  {'cloud': ['oracle', 'aws'], 'other': ['ansibl...  "
      ]
     },
     "execution_count": 228,
     "metadata": {},
     "output_type": "execute_result"
    }
   ],
   "source": [
    "df.head()"
   ]
  },
  {
   "cell_type": "code",
   "execution_count": 231,
   "id": "064a0d61-4146-4bd0-a8e0-c203b5b38557",
   "metadata": {},
   "outputs": [
    {
     "name": "stdout",
     "output_type": "stream",
     "text": [
      "<class 'pandas.core.frame.DataFrame'>\n",
      "RangeIndex: 785741 entries, 0 to 785740\n",
      "Data columns (total 17 columns):\n",
      " #   Column                 Non-Null Count   Dtype  \n",
      "---  ------                 --------------   -----  \n",
      " 0   job_title_short        785741 non-null  object \n",
      " 1   job_title              785740 non-null  object \n",
      " 2   job_location           784696 non-null  object \n",
      " 3   job_via                785733 non-null  object \n",
      " 4   job_schedule_type      773074 non-null  object \n",
      " 5   job_work_from_home     785741 non-null  bool   \n",
      " 6   search_location        785741 non-null  object \n",
      " 7   job_posted_date        785741 non-null  object \n",
      " 8   job_no_degree_mention  785741 non-null  bool   \n",
      " 9   job_health_insurance   785741 non-null  bool   \n",
      " 10  job_country            785692 non-null  object \n",
      " 11  salary_rate            33067 non-null   object \n",
      " 12  salary_year_avg        22003 non-null   float64\n",
      " 13  salary_hour_avg        10662 non-null   float64\n",
      " 14  company_name           785723 non-null  object \n",
      " 15  job_skills             668704 non-null  object \n",
      " 16  job_type_skills        668704 non-null  object \n",
      "dtypes: bool(3), float64(2), object(12)\n",
      "memory usage: 86.2+ MB\n"
     ]
    }
   ],
   "source": [
    "df.info()"
   ]
  },
  {
   "cell_type": "code",
   "execution_count": 233,
   "id": "711f2608-c8bf-4114-a2df-d24bbec151b3",
   "metadata": {},
   "outputs": [
    {
     "data": {
      "text/html": [
       "<div>\n",
       "<style scoped>\n",
       "    .dataframe tbody tr th:only-of-type {\n",
       "        vertical-align: middle;\n",
       "    }\n",
       "\n",
       "    .dataframe tbody tr th {\n",
       "        vertical-align: top;\n",
       "    }\n",
       "\n",
       "    .dataframe thead th {\n",
       "        text-align: right;\n",
       "    }\n",
       "</style>\n",
       "<table border=\"1\" class=\"dataframe\">\n",
       "  <thead>\n",
       "    <tr style=\"text-align: right;\">\n",
       "      <th></th>\n",
       "      <th>salary_year_avg</th>\n",
       "      <th>salary_hour_avg</th>\n",
       "    </tr>\n",
       "  </thead>\n",
       "  <tbody>\n",
       "    <tr>\n",
       "      <th>count</th>\n",
       "      <td>22003.000000</td>\n",
       "      <td>10662.000000</td>\n",
       "    </tr>\n",
       "    <tr>\n",
       "      <th>mean</th>\n",
       "      <td>123286.274072</td>\n",
       "      <td>47.016598</td>\n",
       "    </tr>\n",
       "    <tr>\n",
       "      <th>std</th>\n",
       "      <td>48312.449482</td>\n",
       "      <td>21.890738</td>\n",
       "    </tr>\n",
       "    <tr>\n",
       "      <th>min</th>\n",
       "      <td>15000.000000</td>\n",
       "      <td>8.000000</td>\n",
       "    </tr>\n",
       "    <tr>\n",
       "      <th>25%</th>\n",
       "      <td>90000.000000</td>\n",
       "      <td>27.500000</td>\n",
       "    </tr>\n",
       "    <tr>\n",
       "      <th>50%</th>\n",
       "      <td>115000.000000</td>\n",
       "      <td>45.980000</td>\n",
       "    </tr>\n",
       "    <tr>\n",
       "      <th>75%</th>\n",
       "      <td>150000.000000</td>\n",
       "      <td>61.159996</td>\n",
       "    </tr>\n",
       "    <tr>\n",
       "      <th>max</th>\n",
       "      <td>960000.000000</td>\n",
       "      <td>391.000000</td>\n",
       "    </tr>\n",
       "  </tbody>\n",
       "</table>\n",
       "</div>"
      ],
      "text/plain": [
       "       salary_year_avg  salary_hour_avg\n",
       "count     22003.000000     10662.000000\n",
       "mean     123286.274072        47.016598\n",
       "std       48312.449482        21.890738\n",
       "min       15000.000000         8.000000\n",
       "25%       90000.000000        27.500000\n",
       "50%      115000.000000        45.980000\n",
       "75%      150000.000000        61.159996\n",
       "max      960000.000000       391.000000"
      ]
     },
     "execution_count": 233,
     "metadata": {},
     "output_type": "execute_result"
    }
   ],
   "source": [
    "df.describe()"
   ]
  },
  {
   "cell_type": "code",
   "execution_count": 235,
   "id": "f06308df-4284-479d-8387-121188fbf82e",
   "metadata": {},
   "outputs": [
    {
     "data": {
      "text/plain": [
       "array(['Senior Data Engineer', 'Data Analyst', 'Data Engineer',\n",
       "       'Business Analyst', 'Data Scientist', 'Machine Learning Engineer',\n",
       "       'Senior Data Analyst', 'Cloud Engineer', 'Senior Data Scientist',\n",
       "       'Software Engineer'], dtype=object)"
      ]
     },
     "execution_count": 235,
     "metadata": {},
     "output_type": "execute_result"
    }
   ],
   "source": [
    "df.job_title_short.unique()"
   ]
  },
  {
   "cell_type": "code",
   "execution_count": null,
   "id": "ccc5afda-9928-4bfb-990f-d19b9f26faf5",
   "metadata": {},
   "outputs": [],
   "source": [
    "# df[(df.job_title_short == \"Data Analyst\") & (df.salary_year_avg > 100000)]"
   ]
  },
  {
   "cell_type": "code",
   "execution_count": null,
   "id": "2e019e01-7862-443c-aad5-0723428c0795",
   "metadata": {},
   "outputs": [],
   "source": [
    "# df[(df.job_title_short == \"Data Analyst\") & (df.salary_year_avg.notna())].head()"
   ]
  },
  {
   "cell_type": "code",
   "execution_count": 237,
   "id": "464f7ade-57b3-4f0b-a852-40f0252a76ba",
   "metadata": {},
   "outputs": [
    {
     "name": "stdout",
     "output_type": "stream",
     "text": [
      "<class 'pandas.core.frame.DataFrame'>\n",
      "RangeIndex: 785741 entries, 0 to 785740\n",
      "Data columns (total 17 columns):\n",
      " #   Column                 Non-Null Count   Dtype  \n",
      "---  ------                 --------------   -----  \n",
      " 0   job_title_short        785741 non-null  object \n",
      " 1   job_title              785740 non-null  object \n",
      " 2   job_location           784696 non-null  object \n",
      " 3   job_via                785733 non-null  object \n",
      " 4   job_schedule_type      773074 non-null  object \n",
      " 5   job_work_from_home     785741 non-null  bool   \n",
      " 6   search_location        785741 non-null  object \n",
      " 7   job_posted_date        785741 non-null  object \n",
      " 8   job_no_degree_mention  785741 non-null  bool   \n",
      " 9   job_health_insurance   785741 non-null  bool   \n",
      " 10  job_country            785692 non-null  object \n",
      " 11  salary_rate            33067 non-null   object \n",
      " 12  salary_year_avg        22003 non-null   float64\n",
      " 13  salary_hour_avg        10662 non-null   float64\n",
      " 14  company_name           785723 non-null  object \n",
      " 15  job_skills             668704 non-null  object \n",
      " 16  job_type_skills        668704 non-null  object \n",
      "dtypes: bool(3), float64(2), object(12)\n",
      "memory usage: 86.2+ MB\n"
     ]
    }
   ],
   "source": [
    "#cleaning of data\n",
    "df.info()"
   ]
  },
  {
   "cell_type": "code",
   "execution_count": 239,
   "id": "8774393f-4d30-47a4-b8fd-7602ea1f46b1",
   "metadata": {},
   "outputs": [
    {
     "data": {
      "text/plain": [
       "'2023-06-16 13:44:15'"
      ]
     },
     "execution_count": 239,
     "metadata": {},
     "output_type": "execute_result"
    }
   ],
   "source": [
    "# job_posted_date        785741 non-null  object   - \n",
    "#see here job_posted_date is given as object.. we have to to confirm whether it is a string  or date or object \n",
    "#lets get one row of data to check what it has exactly\n",
    "df.job_posted_date[0]"
   ]
  },
  {
   "cell_type": "code",
   "execution_count": null,
   "id": "ed01e8b0-707c-4981-8e3b-bdb0a4772092",
   "metadata": {},
   "outputs": [],
   "source": [
    "#look, we have a date but stored in a object data type -- lets check type of this"
   ]
  },
  {
   "cell_type": "code",
   "execution_count": 241,
   "id": "e5895fda-ccfa-4a4c-8790-e118e0820164",
   "metadata": {},
   "outputs": [
    {
     "data": {
      "text/plain": [
       "str"
      ]
     },
     "execution_count": 241,
     "metadata": {},
     "output_type": "execute_result"
    }
   ],
   "source": [
    "type(df.job_posted_date[0])"
   ]
  },
  {
   "cell_type": "code",
   "execution_count": 243,
   "id": "d51e4629-a810-41cc-ae0c-91c982929195",
   "metadata": {},
   "outputs": [
    {
     "data": {
      "text/plain": [
       "0        2023-06-16 13:44:15\n",
       "1        2023-01-14 13:18:07\n",
       "2        2023-10-10 13:14:55\n",
       "3        2023-07-04 13:01:41\n",
       "4        2023-08-07 14:29:36\n",
       "                 ...        \n",
       "785736   2023-03-13 06:16:16\n",
       "785737   2023-03-12 06:18:18\n",
       "785738   2023-03-12 06:32:36\n",
       "785739   2023-03-12 06:32:15\n",
       "785740   2023-03-13 06:16:31\n",
       "Name: job_posted_date, Length: 785741, dtype: datetime64[ns]"
      ]
     },
     "execution_count": 243,
     "metadata": {},
     "output_type": "execute_result"
    }
   ],
   "source": [
    "#it is an str data type--now convert in to data time by using pandas\n",
    "pd.to_datetime(df.job_posted_date)"
   ]
  },
  {
   "cell_type": "code",
   "execution_count": 245,
   "id": "82ab2235-739f-4143-8c3f-289d8ff4013f",
   "metadata": {},
   "outputs": [],
   "source": [
    "# it is converted in to datetime in this cell.. we have to assign to job_posted_date column after converting\n",
    "df[\"job_posted_date\"] = pd.to_datetime(df.job_posted_date)"
   ]
  },
  {
   "cell_type": "code",
   "execution_count": 247,
   "id": "ab07e4cc-9787-4165-93b5-2f7cedafb200",
   "metadata": {},
   "outputs": [
    {
     "name": "stdout",
     "output_type": "stream",
     "text": [
      "<class 'pandas.core.frame.DataFrame'>\n",
      "RangeIndex: 785741 entries, 0 to 785740\n",
      "Data columns (total 17 columns):\n",
      " #   Column                 Non-Null Count   Dtype         \n",
      "---  ------                 --------------   -----         \n",
      " 0   job_title_short        785741 non-null  object        \n",
      " 1   job_title              785740 non-null  object        \n",
      " 2   job_location           784696 non-null  object        \n",
      " 3   job_via                785733 non-null  object        \n",
      " 4   job_schedule_type      773074 non-null  object        \n",
      " 5   job_work_from_home     785741 non-null  bool          \n",
      " 6   search_location        785741 non-null  object        \n",
      " 7   job_posted_date        785741 non-null  datetime64[ns]\n",
      " 8   job_no_degree_mention  785741 non-null  bool          \n",
      " 9   job_health_insurance   785741 non-null  bool          \n",
      " 10  job_country            785692 non-null  object        \n",
      " 11  salary_rate            33067 non-null   object        \n",
      " 12  salary_year_avg        22003 non-null   float64       \n",
      " 13  salary_hour_avg        10662 non-null   float64       \n",
      " 14  company_name           785723 non-null  object        \n",
      " 15  job_skills             668704 non-null  object        \n",
      " 16  job_type_skills        668704 non-null  object        \n",
      "dtypes: bool(3), datetime64[ns](1), float64(2), object(11)\n",
      "memory usage: 86.2+ MB\n"
     ]
    }
   ],
   "source": [
    "df.info()"
   ]
  },
  {
   "cell_type": "code",
   "execution_count": 249,
   "id": "0cdbd107-ba90-4fa7-bd45-fdc49178ee6b",
   "metadata": {},
   "outputs": [
    {
     "name": "stdout",
     "output_type": "stream",
     "text": [
      "Requirement already satisfied: jedi in ./Applications/anaconda3/lib/python3.12/site-packages (0.18.1)\n",
      "Requirement already satisfied: parso<0.9.0,>=0.8.0 in ./Applications/anaconda3/lib/python3.12/site-packages (from jedi) (0.8.3)\n"
     ]
    }
   ],
   "source": [
    "!pip install jedi\n"
   ]
  },
  {
   "cell_type": "code",
   "execution_count": 251,
   "id": "6c90dc95-f47e-4f55-b58a-cf65925fac43",
   "metadata": {},
   "outputs": [
    {
     "data": {
      "text/plain": [
       "0          6\n",
       "1          1\n",
       "2         10\n",
       "3          7\n",
       "4          8\n",
       "          ..\n",
       "785736     3\n",
       "785737     3\n",
       "785738     3\n",
       "785739     3\n",
       "785740     3\n",
       "Name: job_posted_date, Length: 785741, dtype: int32"
      ]
     },
     "execution_count": 251,
     "metadata": {},
     "output_type": "execute_result"
    }
   ],
   "source": [
    "df.job_posted_date.dt.month\n"
   ]
  },
  {
   "cell_type": "code",
   "execution_count": 253,
   "id": "a6415ae4-db86-409b-83c3-f730e84f3557",
   "metadata": {},
   "outputs": [],
   "source": [
    "df[\"job_posted_month\"] = df.job_posted_date.dt.month"
   ]
  },
  {
   "cell_type": "code",
   "execution_count": 255,
   "id": "8c1c1503-6d1b-45eb-b055-361064526afd",
   "metadata": {},
   "outputs": [
    {
     "name": "stdout",
     "output_type": "stream",
     "text": [
      "<class 'pandas.core.frame.DataFrame'>\n",
      "RangeIndex: 785741 entries, 0 to 785740\n",
      "Data columns (total 18 columns):\n",
      " #   Column                 Non-Null Count   Dtype         \n",
      "---  ------                 --------------   -----         \n",
      " 0   job_title_short        785741 non-null  object        \n",
      " 1   job_title              785740 non-null  object        \n",
      " 2   job_location           784696 non-null  object        \n",
      " 3   job_via                785733 non-null  object        \n",
      " 4   job_schedule_type      773074 non-null  object        \n",
      " 5   job_work_from_home     785741 non-null  bool          \n",
      " 6   search_location        785741 non-null  object        \n",
      " 7   job_posted_date        785741 non-null  datetime64[ns]\n",
      " 8   job_no_degree_mention  785741 non-null  bool          \n",
      " 9   job_health_insurance   785741 non-null  bool          \n",
      " 10  job_country            785692 non-null  object        \n",
      " 11  salary_rate            33067 non-null   object        \n",
      " 12  salary_year_avg        22003 non-null   float64       \n",
      " 13  salary_hour_avg        10662 non-null   float64       \n",
      " 14  company_name           785723 non-null  object        \n",
      " 15  job_skills             668704 non-null  object        \n",
      " 16  job_type_skills        668704 non-null  object        \n",
      " 17  job_posted_month       785741 non-null  int32         \n",
      "dtypes: bool(3), datetime64[ns](1), float64(2), int32(1), object(11)\n",
      "memory usage: 89.2+ MB\n"
     ]
    }
   ],
   "source": [
    "df.info()"
   ]
  },
  {
   "cell_type": "code",
   "execution_count": 257,
   "id": "791ab3b4-4a38-4855-bbbd-ba46e4ee77e8",
   "metadata": {},
   "outputs": [],
   "source": [
    "df.sort_values(by=\"job_posted_date\",inplace =True)"
   ]
  },
  {
   "cell_type": "code",
   "execution_count": 259,
   "id": "ce26ce78-4694-47b6-9f52-83a4d443c204",
   "metadata": {},
   "outputs": [
    {
     "data": {
      "text/html": [
       "<div>\n",
       "<style scoped>\n",
       "    .dataframe tbody tr th:only-of-type {\n",
       "        vertical-align: middle;\n",
       "    }\n",
       "\n",
       "    .dataframe tbody tr th {\n",
       "        vertical-align: top;\n",
       "    }\n",
       "\n",
       "    .dataframe thead th {\n",
       "        text-align: right;\n",
       "    }\n",
       "</style>\n",
       "<table border=\"1\" class=\"dataframe\">\n",
       "  <thead>\n",
       "    <tr style=\"text-align: right;\">\n",
       "      <th></th>\n",
       "      <th>job_title_short</th>\n",
       "      <th>job_title</th>\n",
       "      <th>job_location</th>\n",
       "      <th>job_via</th>\n",
       "      <th>job_schedule_type</th>\n",
       "      <th>job_work_from_home</th>\n",
       "      <th>search_location</th>\n",
       "      <th>job_posted_date</th>\n",
       "      <th>job_no_degree_mention</th>\n",
       "      <th>job_health_insurance</th>\n",
       "      <th>job_country</th>\n",
       "      <th>salary_rate</th>\n",
       "      <th>salary_year_avg</th>\n",
       "      <th>salary_hour_avg</th>\n",
       "      <th>company_name</th>\n",
       "      <th>job_skills</th>\n",
       "      <th>job_type_skills</th>\n",
       "      <th>job_posted_month</th>\n",
       "    </tr>\n",
       "  </thead>\n",
       "  <tbody>\n",
       "    <tr>\n",
       "      <th>108804</th>\n",
       "      <td>Data Analyst</td>\n",
       "      <td>Data Analyst</td>\n",
       "      <td>New York, NY</td>\n",
       "      <td>via CareerBuilder</td>\n",
       "      <td>Full-time</td>\n",
       "      <td>False</td>\n",
       "      <td>New York, United States</td>\n",
       "      <td>2023-01-01 00:00:04</td>\n",
       "      <td>False</td>\n",
       "      <td>False</td>\n",
       "      <td>United States</td>\n",
       "      <td>NaN</td>\n",
       "      <td>NaN</td>\n",
       "      <td>NaN</td>\n",
       "      <td>Metasys Technologies</td>\n",
       "      <td>['sql', 'snowflake', 'visio', 'jira', 'conflue...</td>\n",
       "      <td>{'analyst_tools': ['visio'], 'async': ['jira',...</td>\n",
       "      <td>1</td>\n",
       "    </tr>\n",
       "    <tr>\n",
       "      <th>96906</th>\n",
       "      <td>Data Analyst</td>\n",
       "      <td>Data Analyst</td>\n",
       "      <td>Bloomfield, CT</td>\n",
       "      <td>via CareerBuilder</td>\n",
       "      <td>Full-time</td>\n",
       "      <td>False</td>\n",
       "      <td>New York, United States</td>\n",
       "      <td>2023-01-01 00:00:07</td>\n",
       "      <td>True</td>\n",
       "      <td>False</td>\n",
       "      <td>United States</td>\n",
       "      <td>NaN</td>\n",
       "      <td>NaN</td>\n",
       "      <td>NaN</td>\n",
       "      <td>Diverse Lynx</td>\n",
       "      <td>['sql', 'sas', 'sas']</td>\n",
       "      <td>{'analyst_tools': ['sas'], 'programming': ['sq...</td>\n",
       "      <td>1</td>\n",
       "    </tr>\n",
       "    <tr>\n",
       "      <th>98438</th>\n",
       "      <td>Data Analyst</td>\n",
       "      <td>Data Analyst</td>\n",
       "      <td>Washington, DC</td>\n",
       "      <td>via CareerBuilder</td>\n",
       "      <td>Full-time</td>\n",
       "      <td>False</td>\n",
       "      <td>New York, United States</td>\n",
       "      <td>2023-01-01 00:00:22</td>\n",
       "      <td>False</td>\n",
       "      <td>True</td>\n",
       "      <td>United States</td>\n",
       "      <td>NaN</td>\n",
       "      <td>NaN</td>\n",
       "      <td>NaN</td>\n",
       "      <td>Guidehouse</td>\n",
       "      <td>['sql', 'python', 'r', 'azure', 'snowflake', '...</td>\n",
       "      <td>{'analyst_tools': ['tableau', 'excel'], 'cloud...</td>\n",
       "      <td>1</td>\n",
       "    </tr>\n",
       "    <tr>\n",
       "      <th>110290</th>\n",
       "      <td>Data Analyst</td>\n",
       "      <td>Data Analyst</td>\n",
       "      <td>Fairfax, VA</td>\n",
       "      <td>via CareerBuilder</td>\n",
       "      <td>Full-time</td>\n",
       "      <td>False</td>\n",
       "      <td>New York, United States</td>\n",
       "      <td>2023-01-01 00:00:24</td>\n",
       "      <td>False</td>\n",
       "      <td>False</td>\n",
       "      <td>United States</td>\n",
       "      <td>NaN</td>\n",
       "      <td>NaN</td>\n",
       "      <td>NaN</td>\n",
       "      <td>Protask</td>\n",
       "      <td>['sql', 'jira']</td>\n",
       "      <td>{'async': ['jira'], 'programming': ['sql']}</td>\n",
       "      <td>1</td>\n",
       "    </tr>\n",
       "    <tr>\n",
       "      <th>72158</th>\n",
       "      <td>Senior Data Analyst</td>\n",
       "      <td>Senior Data Analyst / Platform Experience</td>\n",
       "      <td>Worcester, MA</td>\n",
       "      <td>via LinkedIn</td>\n",
       "      <td>Full-time</td>\n",
       "      <td>False</td>\n",
       "      <td>New York, United States</td>\n",
       "      <td>2023-01-01 00:00:27</td>\n",
       "      <td>False</td>\n",
       "      <td>True</td>\n",
       "      <td>United States</td>\n",
       "      <td>NaN</td>\n",
       "      <td>NaN</td>\n",
       "      <td>NaN</td>\n",
       "      <td>Atria Wealth Solutions</td>\n",
       "      <td>['sql', 'atlassian', 'jira']</td>\n",
       "      <td>{'async': ['jira'], 'other': ['atlassian'], 'p...</td>\n",
       "      <td>1</td>\n",
       "    </tr>\n",
       "    <tr>\n",
       "      <th>...</th>\n",
       "      <td>...</td>\n",
       "      <td>...</td>\n",
       "      <td>...</td>\n",
       "      <td>...</td>\n",
       "      <td>...</td>\n",
       "      <td>...</td>\n",
       "      <td>...</td>\n",
       "      <td>...</td>\n",
       "      <td>...</td>\n",
       "      <td>...</td>\n",
       "      <td>...</td>\n",
       "      <td>...</td>\n",
       "      <td>...</td>\n",
       "      <td>...</td>\n",
       "      <td>...</td>\n",
       "      <td>...</td>\n",
       "      <td>...</td>\n",
       "      <td>...</td>\n",
       "    </tr>\n",
       "    <tr>\n",
       "      <th>362129</th>\n",
       "      <td>Data Engineer</td>\n",
       "      <td>Data engineer</td>\n",
       "      <td>Sunnyvale, CA</td>\n",
       "      <td>via Talent.com</td>\n",
       "      <td>Full-time</td>\n",
       "      <td>False</td>\n",
       "      <td>Sudan</td>\n",
       "      <td>2023-12-31 23:40:31</td>\n",
       "      <td>True</td>\n",
       "      <td>False</td>\n",
       "      <td>Sudan</td>\n",
       "      <td>NaN</td>\n",
       "      <td>NaN</td>\n",
       "      <td>NaN</td>\n",
       "      <td>ITCO Solutions</td>\n",
       "      <td>['sql', 'python', 'java', 'snowflake', 'airflo...</td>\n",
       "      <td>{'cloud': ['snowflake'], 'libraries': ['airflo...</td>\n",
       "      <td>12</td>\n",
       "    </tr>\n",
       "    <tr>\n",
       "      <th>351830</th>\n",
       "      <td>Data Engineer</td>\n",
       "      <td>Data engineer</td>\n",
       "      <td>San Francisco, CA</td>\n",
       "      <td>via Talent.com</td>\n",
       "      <td>Full-time</td>\n",
       "      <td>False</td>\n",
       "      <td>Sudan</td>\n",
       "      <td>2023-12-31 23:40:31</td>\n",
       "      <td>False</td>\n",
       "      <td>False</td>\n",
       "      <td>Sudan</td>\n",
       "      <td>NaN</td>\n",
       "      <td>NaN</td>\n",
       "      <td>NaN</td>\n",
       "      <td>JBL Resources</td>\n",
       "      <td>['azure', 'power bi', 'word']</td>\n",
       "      <td>{'analyst_tools': ['power bi', 'word'], 'cloud...</td>\n",
       "      <td>12</td>\n",
       "    </tr>\n",
       "    <tr>\n",
       "      <th>327439</th>\n",
       "      <td>Data Engineer</td>\n",
       "      <td>Staff engineer data</td>\n",
       "      <td>Southfield, MI</td>\n",
       "      <td>via Talent.com</td>\n",
       "      <td>Full-time</td>\n",
       "      <td>False</td>\n",
       "      <td>Sudan</td>\n",
       "      <td>2023-12-31 23:40:32</td>\n",
       "      <td>False</td>\n",
       "      <td>False</td>\n",
       "      <td>Sudan</td>\n",
       "      <td>year</td>\n",
       "      <td>140000.0</td>\n",
       "      <td>NaN</td>\n",
       "      <td>Credit Acceptance</td>\n",
       "      <td>['express', 'kubernetes']</td>\n",
       "      <td>{'other': ['kubernetes'], 'webframeworks': ['e...</td>\n",
       "      <td>12</td>\n",
       "    </tr>\n",
       "    <tr>\n",
       "      <th>112373</th>\n",
       "      <td>Senior Data Analyst</td>\n",
       "      <td>Marketing Data &amp; Analytics Product Owner - Sen...</td>\n",
       "      <td>Boston, MA  (+1 other)</td>\n",
       "      <td>via Boston Consulting Group</td>\n",
       "      <td>Full-time</td>\n",
       "      <td>False</td>\n",
       "      <td>New York, United States</td>\n",
       "      <td>2023-12-31 23:59:58</td>\n",
       "      <td>False</td>\n",
       "      <td>False</td>\n",
       "      <td>United States</td>\n",
       "      <td>NaN</td>\n",
       "      <td>NaN</td>\n",
       "      <td>NaN</td>\n",
       "      <td>Boston Consulting Group</td>\n",
       "      <td>['sql', 'python', 'r', 'gdpr', 'tableau', 'pow...</td>\n",
       "      <td>{'analyst_tools': ['tableau', 'power bi'], 'li...</td>\n",
       "      <td>12</td>\n",
       "    </tr>\n",
       "    <tr>\n",
       "      <th>90102</th>\n",
       "      <td>Machine Learning Engineer</td>\n",
       "      <td>Intelligence analyst</td>\n",
       "      <td>Boston, MA</td>\n",
       "      <td>via Talent.com</td>\n",
       "      <td>Full-time</td>\n",
       "      <td>False</td>\n",
       "      <td>New York, United States</td>\n",
       "      <td>2023-12-31 23:59:58</td>\n",
       "      <td>True</td>\n",
       "      <td>False</td>\n",
       "      <td>United States</td>\n",
       "      <td>NaN</td>\n",
       "      <td>NaN</td>\n",
       "      <td>NaN</td>\n",
       "      <td>VirtualVocations</td>\n",
       "      <td>NaN</td>\n",
       "      <td>NaN</td>\n",
       "      <td>12</td>\n",
       "    </tr>\n",
       "  </tbody>\n",
       "</table>\n",
       "<p>785741 rows × 18 columns</p>\n",
       "</div>"
      ],
      "text/plain": [
       "                  job_title_short  \\\n",
       "108804               Data Analyst   \n",
       "96906                Data Analyst   \n",
       "98438                Data Analyst   \n",
       "110290               Data Analyst   \n",
       "72158         Senior Data Analyst   \n",
       "...                           ...   \n",
       "362129              Data Engineer   \n",
       "351830              Data Engineer   \n",
       "327439              Data Engineer   \n",
       "112373        Senior Data Analyst   \n",
       "90102   Machine Learning Engineer   \n",
       "\n",
       "                                                job_title  \\\n",
       "108804                                       Data Analyst   \n",
       "96906                                        Data Analyst   \n",
       "98438                                        Data Analyst   \n",
       "110290                                       Data Analyst   \n",
       "72158           Senior Data Analyst / Platform Experience   \n",
       "...                                                   ...   \n",
       "362129                                      Data engineer   \n",
       "351830                                      Data engineer   \n",
       "327439                                Staff engineer data   \n",
       "112373  Marketing Data & Analytics Product Owner - Sen...   \n",
       "90102                                Intelligence analyst   \n",
       "\n",
       "                  job_location                      job_via job_schedule_type  \\\n",
       "108804            New York, NY            via CareerBuilder         Full-time   \n",
       "96906           Bloomfield, CT            via CareerBuilder         Full-time   \n",
       "98438           Washington, DC            via CareerBuilder         Full-time   \n",
       "110290             Fairfax, VA            via CareerBuilder         Full-time   \n",
       "72158            Worcester, MA                 via LinkedIn         Full-time   \n",
       "...                        ...                          ...               ...   \n",
       "362129           Sunnyvale, CA               via Talent.com         Full-time   \n",
       "351830       San Francisco, CA               via Talent.com         Full-time   \n",
       "327439          Southfield, MI               via Talent.com         Full-time   \n",
       "112373  Boston, MA  (+1 other)  via Boston Consulting Group         Full-time   \n",
       "90102               Boston, MA               via Talent.com         Full-time   \n",
       "\n",
       "        job_work_from_home          search_location     job_posted_date  \\\n",
       "108804               False  New York, United States 2023-01-01 00:00:04   \n",
       "96906                False  New York, United States 2023-01-01 00:00:07   \n",
       "98438                False  New York, United States 2023-01-01 00:00:22   \n",
       "110290               False  New York, United States 2023-01-01 00:00:24   \n",
       "72158                False  New York, United States 2023-01-01 00:00:27   \n",
       "...                    ...                      ...                 ...   \n",
       "362129               False                    Sudan 2023-12-31 23:40:31   \n",
       "351830               False                    Sudan 2023-12-31 23:40:31   \n",
       "327439               False                    Sudan 2023-12-31 23:40:32   \n",
       "112373               False  New York, United States 2023-12-31 23:59:58   \n",
       "90102                False  New York, United States 2023-12-31 23:59:58   \n",
       "\n",
       "        job_no_degree_mention  job_health_insurance    job_country  \\\n",
       "108804                  False                 False  United States   \n",
       "96906                    True                 False  United States   \n",
       "98438                   False                  True  United States   \n",
       "110290                  False                 False  United States   \n",
       "72158                   False                  True  United States   \n",
       "...                       ...                   ...            ...   \n",
       "362129                   True                 False          Sudan   \n",
       "351830                  False                 False          Sudan   \n",
       "327439                  False                 False          Sudan   \n",
       "112373                  False                 False  United States   \n",
       "90102                    True                 False  United States   \n",
       "\n",
       "       salary_rate  salary_year_avg  salary_hour_avg             company_name  \\\n",
       "108804         NaN              NaN              NaN     Metasys Technologies   \n",
       "96906          NaN              NaN              NaN             Diverse Lynx   \n",
       "98438          NaN              NaN              NaN               Guidehouse   \n",
       "110290         NaN              NaN              NaN                  Protask   \n",
       "72158          NaN              NaN              NaN   Atria Wealth Solutions   \n",
       "...            ...              ...              ...                      ...   \n",
       "362129         NaN              NaN              NaN           ITCO Solutions   \n",
       "351830         NaN              NaN              NaN            JBL Resources   \n",
       "327439        year         140000.0              NaN        Credit Acceptance   \n",
       "112373         NaN              NaN              NaN  Boston Consulting Group   \n",
       "90102          NaN              NaN              NaN         VirtualVocations   \n",
       "\n",
       "                                               job_skills  \\\n",
       "108804  ['sql', 'snowflake', 'visio', 'jira', 'conflue...   \n",
       "96906                               ['sql', 'sas', 'sas']   \n",
       "98438   ['sql', 'python', 'r', 'azure', 'snowflake', '...   \n",
       "110290                                    ['sql', 'jira']   \n",
       "72158                        ['sql', 'atlassian', 'jira']   \n",
       "...                                                   ...   \n",
       "362129  ['sql', 'python', 'java', 'snowflake', 'airflo...   \n",
       "351830                      ['azure', 'power bi', 'word']   \n",
       "327439                          ['express', 'kubernetes']   \n",
       "112373  ['sql', 'python', 'r', 'gdpr', 'tableau', 'pow...   \n",
       "90102                                                 NaN   \n",
       "\n",
       "                                          job_type_skills  job_posted_month  \n",
       "108804  {'analyst_tools': ['visio'], 'async': ['jira',...                 1  \n",
       "96906   {'analyst_tools': ['sas'], 'programming': ['sq...                 1  \n",
       "98438   {'analyst_tools': ['tableau', 'excel'], 'cloud...                 1  \n",
       "110290        {'async': ['jira'], 'programming': ['sql']}                 1  \n",
       "72158   {'async': ['jira'], 'other': ['atlassian'], 'p...                 1  \n",
       "...                                                   ...               ...  \n",
       "362129  {'cloud': ['snowflake'], 'libraries': ['airflo...                12  \n",
       "351830  {'analyst_tools': ['power bi', 'word'], 'cloud...                12  \n",
       "327439  {'other': ['kubernetes'], 'webframeworks': ['e...                12  \n",
       "112373  {'analyst_tools': ['tableau', 'power bi'], 'li...                12  \n",
       "90102                                                 NaN                12  \n",
       "\n",
       "[785741 rows x 18 columns]"
      ]
     },
     "execution_count": 259,
     "metadata": {},
     "output_type": "execute_result"
    }
   ],
   "source": [
    "df"
   ]
  },
  {
   "cell_type": "code",
   "execution_count": 265,
   "id": "06712909-f0ed-48e3-831a-006b1b329b0f",
   "metadata": {},
   "outputs": [
    {
     "data": {
      "text/html": [
       "<div>\n",
       "<style scoped>\n",
       "    .dataframe tbody tr th:only-of-type {\n",
       "        vertical-align: middle;\n",
       "    }\n",
       "\n",
       "    .dataframe tbody tr th {\n",
       "        vertical-align: top;\n",
       "    }\n",
       "\n",
       "    .dataframe thead th {\n",
       "        text-align: right;\n",
       "    }\n",
       "</style>\n",
       "<table border=\"1\" class=\"dataframe\">\n",
       "  <thead>\n",
       "    <tr style=\"text-align: right;\">\n",
       "      <th></th>\n",
       "      <th>job_title_short</th>\n",
       "      <th>job_title</th>\n",
       "      <th>job_location</th>\n",
       "      <th>job_via</th>\n",
       "      <th>job_schedule_type</th>\n",
       "      <th>job_work_from_home</th>\n",
       "      <th>search_location</th>\n",
       "      <th>job_posted_date</th>\n",
       "      <th>job_no_degree_mention</th>\n",
       "      <th>job_health_insurance</th>\n",
       "      <th>job_country</th>\n",
       "      <th>salary_rate</th>\n",
       "      <th>salary_year_avg</th>\n",
       "      <th>company_name</th>\n",
       "      <th>job_skills</th>\n",
       "      <th>job_type_skills</th>\n",
       "      <th>job_posted_month</th>\n",
       "    </tr>\n",
       "  </thead>\n",
       "  <tbody>\n",
       "    <tr>\n",
       "      <th>108804</th>\n",
       "      <td>Data Analyst</td>\n",
       "      <td>Data Analyst</td>\n",
       "      <td>New York, NY</td>\n",
       "      <td>via CareerBuilder</td>\n",
       "      <td>Full-time</td>\n",
       "      <td>False</td>\n",
       "      <td>New York, United States</td>\n",
       "      <td>2023-01-01 00:00:04</td>\n",
       "      <td>False</td>\n",
       "      <td>False</td>\n",
       "      <td>United States</td>\n",
       "      <td>NaN</td>\n",
       "      <td>NaN</td>\n",
       "      <td>Metasys Technologies</td>\n",
       "      <td>['sql', 'snowflake', 'visio', 'jira', 'conflue...</td>\n",
       "      <td>{'analyst_tools': ['visio'], 'async': ['jira',...</td>\n",
       "      <td>1</td>\n",
       "    </tr>\n",
       "    <tr>\n",
       "      <th>96906</th>\n",
       "      <td>Data Analyst</td>\n",
       "      <td>Data Analyst</td>\n",
       "      <td>Bloomfield, CT</td>\n",
       "      <td>via CareerBuilder</td>\n",
       "      <td>Full-time</td>\n",
       "      <td>False</td>\n",
       "      <td>New York, United States</td>\n",
       "      <td>2023-01-01 00:00:07</td>\n",
       "      <td>True</td>\n",
       "      <td>False</td>\n",
       "      <td>United States</td>\n",
       "      <td>NaN</td>\n",
       "      <td>NaN</td>\n",
       "      <td>Diverse Lynx</td>\n",
       "      <td>['sql', 'sas', 'sas']</td>\n",
       "      <td>{'analyst_tools': ['sas'], 'programming': ['sq...</td>\n",
       "      <td>1</td>\n",
       "    </tr>\n",
       "    <tr>\n",
       "      <th>98438</th>\n",
       "      <td>Data Analyst</td>\n",
       "      <td>Data Analyst</td>\n",
       "      <td>Washington, DC</td>\n",
       "      <td>via CareerBuilder</td>\n",
       "      <td>Full-time</td>\n",
       "      <td>False</td>\n",
       "      <td>New York, United States</td>\n",
       "      <td>2023-01-01 00:00:22</td>\n",
       "      <td>False</td>\n",
       "      <td>True</td>\n",
       "      <td>United States</td>\n",
       "      <td>NaN</td>\n",
       "      <td>NaN</td>\n",
       "      <td>Guidehouse</td>\n",
       "      <td>['sql', 'python', 'r', 'azure', 'snowflake', '...</td>\n",
       "      <td>{'analyst_tools': ['tableau', 'excel'], 'cloud...</td>\n",
       "      <td>1</td>\n",
       "    </tr>\n",
       "    <tr>\n",
       "      <th>110290</th>\n",
       "      <td>Data Analyst</td>\n",
       "      <td>Data Analyst</td>\n",
       "      <td>Fairfax, VA</td>\n",
       "      <td>via CareerBuilder</td>\n",
       "      <td>Full-time</td>\n",
       "      <td>False</td>\n",
       "      <td>New York, United States</td>\n",
       "      <td>2023-01-01 00:00:24</td>\n",
       "      <td>False</td>\n",
       "      <td>False</td>\n",
       "      <td>United States</td>\n",
       "      <td>NaN</td>\n",
       "      <td>NaN</td>\n",
       "      <td>Protask</td>\n",
       "      <td>['sql', 'jira']</td>\n",
       "      <td>{'async': ['jira'], 'programming': ['sql']}</td>\n",
       "      <td>1</td>\n",
       "    </tr>\n",
       "    <tr>\n",
       "      <th>72158</th>\n",
       "      <td>Senior Data Analyst</td>\n",
       "      <td>Senior Data Analyst / Platform Experience</td>\n",
       "      <td>Worcester, MA</td>\n",
       "      <td>via LinkedIn</td>\n",
       "      <td>Full-time</td>\n",
       "      <td>False</td>\n",
       "      <td>New York, United States</td>\n",
       "      <td>2023-01-01 00:00:27</td>\n",
       "      <td>False</td>\n",
       "      <td>True</td>\n",
       "      <td>United States</td>\n",
       "      <td>NaN</td>\n",
       "      <td>NaN</td>\n",
       "      <td>Atria Wealth Solutions</td>\n",
       "      <td>['sql', 'atlassian', 'jira']</td>\n",
       "      <td>{'async': ['jira'], 'other': ['atlassian'], 'p...</td>\n",
       "      <td>1</td>\n",
       "    </tr>\n",
       "  </tbody>\n",
       "</table>\n",
       "</div>"
      ],
      "text/plain": [
       "            job_title_short                                  job_title  \\\n",
       "108804         Data Analyst                               Data Analyst   \n",
       "96906          Data Analyst                               Data Analyst   \n",
       "98438          Data Analyst                               Data Analyst   \n",
       "110290         Data Analyst                               Data Analyst   \n",
       "72158   Senior Data Analyst  Senior Data Analyst / Platform Experience   \n",
       "\n",
       "          job_location            job_via job_schedule_type  \\\n",
       "108804    New York, NY  via CareerBuilder         Full-time   \n",
       "96906   Bloomfield, CT  via CareerBuilder         Full-time   \n",
       "98438   Washington, DC  via CareerBuilder         Full-time   \n",
       "110290     Fairfax, VA  via CareerBuilder         Full-time   \n",
       "72158    Worcester, MA       via LinkedIn         Full-time   \n",
       "\n",
       "        job_work_from_home          search_location     job_posted_date  \\\n",
       "108804               False  New York, United States 2023-01-01 00:00:04   \n",
       "96906                False  New York, United States 2023-01-01 00:00:07   \n",
       "98438                False  New York, United States 2023-01-01 00:00:22   \n",
       "110290               False  New York, United States 2023-01-01 00:00:24   \n",
       "72158                False  New York, United States 2023-01-01 00:00:27   \n",
       "\n",
       "        job_no_degree_mention  job_health_insurance    job_country  \\\n",
       "108804                  False                 False  United States   \n",
       "96906                    True                 False  United States   \n",
       "98438                   False                  True  United States   \n",
       "110290                  False                 False  United States   \n",
       "72158                   False                  True  United States   \n",
       "\n",
       "       salary_rate  salary_year_avg            company_name  \\\n",
       "108804         NaN              NaN    Metasys Technologies   \n",
       "96906          NaN              NaN            Diverse Lynx   \n",
       "98438          NaN              NaN              Guidehouse   \n",
       "110290         NaN              NaN                 Protask   \n",
       "72158          NaN              NaN  Atria Wealth Solutions   \n",
       "\n",
       "                                               job_skills  \\\n",
       "108804  ['sql', 'snowflake', 'visio', 'jira', 'conflue...   \n",
       "96906                               ['sql', 'sas', 'sas']   \n",
       "98438   ['sql', 'python', 'r', 'azure', 'snowflake', '...   \n",
       "110290                                    ['sql', 'jira']   \n",
       "72158                        ['sql', 'atlassian', 'jira']   \n",
       "\n",
       "                                          job_type_skills  job_posted_month  \n",
       "108804  {'analyst_tools': ['visio'], 'async': ['jira',...                 1  \n",
       "96906   {'analyst_tools': ['sas'], 'programming': ['sq...                 1  \n",
       "98438   {'analyst_tools': ['tableau', 'excel'], 'cloud...                 1  \n",
       "110290        {'async': ['jira'], 'programming': ['sql']}                 1  \n",
       "72158   {'async': ['jira'], 'other': ['atlassian'], 'p...                 1  "
      ]
     },
     "execution_count": 265,
     "metadata": {},
     "output_type": "execute_result"
    }
   ],
   "source": [
    "# we want to analyse only salary_yearly data, so we dont require salary_hourly data, \n",
    "#1.we have to  drop that column (salary_hourly data)\n",
    "#2. we have to drop the nan values in salary_yearly  column \n",
    "#here we are doing 2 differernt things ie we are droping one full column(axis = 1 )and other is we are removing some rows in a rows(axis= 0)\n",
    "df.drop(\"salary_hour_avg\", axis = 1).head()\n"
   ]
  },
  {
   "cell_type": "code",
   "execution_count": 273,
   "id": "cfe0633a-0662-4e04-8d1a-db1152ee2ebb",
   "metadata": {},
   "outputs": [
    {
     "name": "stdout",
     "output_type": "stream",
     "text": [
      "<class 'pandas.core.frame.DataFrame'>\n",
      "Index: 785741 entries, 108804 to 90102\n",
      "Data columns (total 17 columns):\n",
      " #   Column                 Non-Null Count   Dtype         \n",
      "---  ------                 --------------   -----         \n",
      " 0   job_title_short        785741 non-null  object        \n",
      " 1   job_title              785740 non-null  object        \n",
      " 2   job_location           784696 non-null  object        \n",
      " 3   job_via                785733 non-null  object        \n",
      " 4   job_schedule_type      773074 non-null  object        \n",
      " 5   job_work_from_home     785741 non-null  bool          \n",
      " 6   search_location        785741 non-null  object        \n",
      " 7   job_posted_date        785741 non-null  datetime64[ns]\n",
      " 8   job_no_degree_mention  785741 non-null  bool          \n",
      " 9   job_health_insurance   785741 non-null  bool          \n",
      " 10  job_country            785692 non-null  object        \n",
      " 11  salary_rate            33067 non-null   object        \n",
      " 12  salary_year_avg        22003 non-null   float64       \n",
      " 13  company_name           785723 non-null  object        \n",
      " 14  job_skills             668704 non-null  object        \n",
      " 15  job_type_skills        668704 non-null  object        \n",
      " 16  job_posted_month       785741 non-null  int32         \n",
      "dtypes: bool(3), datetime64[ns](1), float64(1), int32(1), object(11)\n",
      "memory usage: 89.2+ MB\n"
     ]
    }
   ],
   "source": [
    "df.info()  # but after removing the col, we see in info that there are  salary_hour_avg        10662 non-null  \n",
    "# we have to add parameter inplace = True"
   ]
  },
  {
   "cell_type": "code",
   "execution_count": 285,
   "id": "e12404fd-08f1-4942-ae2f-7165eea5828e",
   "metadata": {},
   "outputs": [],
   "source": [
    "#we have to drop nan rows for particular subset of columns in this case : salary_year_avg .. \n",
    "#so we have to use dropna for the subset of salary_year_avg\n",
    "df.dropna(subset=[\"salary_year_avg\"],axis = 0,inplace=True)"
   ]
  },
  {
   "cell_type": "code",
   "execution_count": 287,
   "id": "bf2dd8a6-1767-4d76-8cb0-aa7f33b8a808",
   "metadata": {},
   "outputs": [
    {
     "name": "stdout",
     "output_type": "stream",
     "text": [
      "<class 'pandas.core.frame.DataFrame'>\n",
      "Index: 22003 entries, 108883 to 327439\n",
      "Data columns (total 17 columns):\n",
      " #   Column                 Non-Null Count  Dtype         \n",
      "---  ------                 --------------  -----         \n",
      " 0   job_title_short        22003 non-null  object        \n",
      " 1   job_title              22003 non-null  object        \n",
      " 2   job_location           21723 non-null  object        \n",
      " 3   job_via                22003 non-null  object        \n",
      " 4   job_schedule_type      21987 non-null  object        \n",
      " 5   job_work_from_home     22003 non-null  bool          \n",
      " 6   search_location        22003 non-null  object        \n",
      " 7   job_posted_date        22003 non-null  datetime64[ns]\n",
      " 8   job_no_degree_mention  22003 non-null  bool          \n",
      " 9   job_health_insurance   22003 non-null  bool          \n",
      " 10  job_country            22003 non-null  object        \n",
      " 11  salary_rate            22003 non-null  object        \n",
      " 12  salary_year_avg        22003 non-null  float64       \n",
      " 13  company_name           22003 non-null  object        \n",
      " 14  job_skills             20170 non-null  object        \n",
      " 15  job_type_skills        20170 non-null  object        \n",
      " 16  job_posted_month       22003 non-null  int32         \n",
      "dtypes: bool(3), datetime64[ns](1), float64(1), int32(1), object(11)\n",
      "memory usage: 2.5+ MB\n"
     ]
    }
   ],
   "source": [
    "df.info()"
   ]
  },
  {
   "cell_type": "code",
   "execution_count": 289,
   "id": "656e1a84-e7e3-40b3-a7c6-60ed0f269137",
   "metadata": {},
   "outputs": [
    {
     "data": {
      "text/html": [
       "<div>\n",
       "<style scoped>\n",
       "    .dataframe tbody tr th:only-of-type {\n",
       "        vertical-align: middle;\n",
       "    }\n",
       "\n",
       "    .dataframe tbody tr th {\n",
       "        vertical-align: top;\n",
       "    }\n",
       "\n",
       "    .dataframe thead th {\n",
       "        text-align: right;\n",
       "    }\n",
       "</style>\n",
       "<table border=\"1\" class=\"dataframe\">\n",
       "  <thead>\n",
       "    <tr style=\"text-align: right;\">\n",
       "      <th></th>\n",
       "      <th>job_title_short</th>\n",
       "      <th>job_title</th>\n",
       "      <th>job_location</th>\n",
       "      <th>job_via</th>\n",
       "      <th>job_schedule_type</th>\n",
       "      <th>job_work_from_home</th>\n",
       "      <th>search_location</th>\n",
       "      <th>job_posted_date</th>\n",
       "      <th>job_no_degree_mention</th>\n",
       "      <th>job_health_insurance</th>\n",
       "      <th>job_country</th>\n",
       "      <th>salary_rate</th>\n",
       "      <th>salary_year_avg</th>\n",
       "      <th>company_name</th>\n",
       "      <th>job_skills</th>\n",
       "      <th>job_type_skills</th>\n",
       "      <th>job_posted_month</th>\n",
       "    </tr>\n",
       "  </thead>\n",
       "  <tbody>\n",
       "    <tr>\n",
       "      <th>108883</th>\n",
       "      <td>Data Scientist</td>\n",
       "      <td>Data Scientist</td>\n",
       "      <td>Calabasas, CA</td>\n",
       "      <td>via Recruit.net</td>\n",
       "      <td>Full-time</td>\n",
       "      <td>False</td>\n",
       "      <td>California, United States</td>\n",
       "      <td>2023-01-01 00:02:56</td>\n",
       "      <td>False</td>\n",
       "      <td>True</td>\n",
       "      <td>United States</td>\n",
       "      <td>year</td>\n",
       "      <td>110000.0</td>\n",
       "      <td>PlanetArt</td>\n",
       "      <td>['python', 'sql', 'tableau', 'excel']</td>\n",
       "      <td>{'analyst_tools': ['tableau', 'excel'], 'progr...</td>\n",
       "      <td>1</td>\n",
       "    </tr>\n",
       "    <tr>\n",
       "      <th>334082</th>\n",
       "      <td>Data Engineer</td>\n",
       "      <td>Data Engineer</td>\n",
       "      <td>Argentina</td>\n",
       "      <td>via EchoJobs</td>\n",
       "      <td>Full-time</td>\n",
       "      <td>False</td>\n",
       "      <td>Argentina</td>\n",
       "      <td>2023-01-01 00:06:13</td>\n",
       "      <td>True</td>\n",
       "      <td>False</td>\n",
       "      <td>Argentina</td>\n",
       "      <td>year</td>\n",
       "      <td>65000.0</td>\n",
       "      <td>Spiff</td>\n",
       "      <td>['python', 'mysql', 'aws', 'azure']</td>\n",
       "      <td>{'cloud': ['aws', 'azure'], 'databases': ['mys...</td>\n",
       "      <td>1</td>\n",
       "    </tr>\n",
       "    <tr>\n",
       "      <th>365786</th>\n",
       "      <td>Business Analyst</td>\n",
       "      <td>Hospitality Operations Analyst</td>\n",
       "      <td>Anywhere</td>\n",
       "      <td>via Goodwin Recruiting | Job Board</td>\n",
       "      <td>Full-time</td>\n",
       "      <td>True</td>\n",
       "      <td>Georgia</td>\n",
       "      <td>2023-01-01 00:17:55</td>\n",
       "      <td>False</td>\n",
       "      <td>True</td>\n",
       "      <td>United States</td>\n",
       "      <td>year</td>\n",
       "      <td>90000.0</td>\n",
       "      <td>Goodwin Recruiting</td>\n",
       "      <td>['sql', 'excel', 'powerpoint', 'outlook']</td>\n",
       "      <td>{'analyst_tools': ['excel', 'powerpoint', 'out...</td>\n",
       "      <td>1</td>\n",
       "    </tr>\n",
       "    <tr>\n",
       "      <th>366073</th>\n",
       "      <td>Data Analyst</td>\n",
       "      <td>Data Analytics Professional</td>\n",
       "      <td>Atlanta, GA</td>\n",
       "      <td>via CareerBuilder</td>\n",
       "      <td>Full-time</td>\n",
       "      <td>False</td>\n",
       "      <td>Georgia</td>\n",
       "      <td>2023-01-01 00:17:58</td>\n",
       "      <td>False</td>\n",
       "      <td>False</td>\n",
       "      <td>United States</td>\n",
       "      <td>year</td>\n",
       "      <td>55000.0</td>\n",
       "      <td>Cogent Infotech.</td>\n",
       "      <td>['sql', 'python', 'numpy', 'pandas', 'seaborn'...</td>\n",
       "      <td>{'analyst_tools': ['excel', 'alteryx', 'tablea...</td>\n",
       "      <td>1</td>\n",
       "    </tr>\n",
       "    <tr>\n",
       "      <th>108099</th>\n",
       "      <td>Data Scientist</td>\n",
       "      <td>Lead Data Scientist (Hybrid)</td>\n",
       "      <td>Burnsville, MN</td>\n",
       "      <td>via Recruit.net</td>\n",
       "      <td>Full-time</td>\n",
       "      <td>False</td>\n",
       "      <td>Illinois, United States</td>\n",
       "      <td>2023-01-01 00:21:09</td>\n",
       "      <td>False</td>\n",
       "      <td>False</td>\n",
       "      <td>United States</td>\n",
       "      <td>year</td>\n",
       "      <td>120531.0</td>\n",
       "      <td>Apple Valley</td>\n",
       "      <td>['java', 'sql', 'sql server', 'spring']</td>\n",
       "      <td>{'databases': ['sql server'], 'libraries': ['s...</td>\n",
       "      <td>1</td>\n",
       "    </tr>\n",
       "    <tr>\n",
       "      <th>...</th>\n",
       "      <td>...</td>\n",
       "      <td>...</td>\n",
       "      <td>...</td>\n",
       "      <td>...</td>\n",
       "      <td>...</td>\n",
       "      <td>...</td>\n",
       "      <td>...</td>\n",
       "      <td>...</td>\n",
       "      <td>...</td>\n",
       "      <td>...</td>\n",
       "      <td>...</td>\n",
       "      <td>...</td>\n",
       "      <td>...</td>\n",
       "      <td>...</td>\n",
       "      <td>...</td>\n",
       "      <td>...</td>\n",
       "      <td>...</td>\n",
       "    </tr>\n",
       "    <tr>\n",
       "      <th>186163</th>\n",
       "      <td>Senior Data Scientist</td>\n",
       "      <td>Tech Lead / Sr Data Scientist, Product Analyti...</td>\n",
       "      <td>Los Angeles, CA</td>\n",
       "      <td>via LinkedIn</td>\n",
       "      <td>Full-time</td>\n",
       "      <td>False</td>\n",
       "      <td>California, United States</td>\n",
       "      <td>2023-12-31 15:00:46</td>\n",
       "      <td>False</td>\n",
       "      <td>True</td>\n",
       "      <td>United States</td>\n",
       "      <td>year</td>\n",
       "      <td>271526.5</td>\n",
       "      <td>TikTok</td>\n",
       "      <td>['sql', 'python', 'r', 'express']</td>\n",
       "      <td>{'programming': ['sql', 'python', 'r'], 'webfr...</td>\n",
       "      <td>12</td>\n",
       "    </tr>\n",
       "    <tr>\n",
       "      <th>421728</th>\n",
       "      <td>Data Analyst</td>\n",
       "      <td>Data Analyst - Operations</td>\n",
       "      <td>Los Angeles, CA</td>\n",
       "      <td>via Indeed</td>\n",
       "      <td>Full-time</td>\n",
       "      <td>False</td>\n",
       "      <td>California, United States</td>\n",
       "      <td>2023-12-31 16:00:07</td>\n",
       "      <td>False</td>\n",
       "      <td>True</td>\n",
       "      <td>United States</td>\n",
       "      <td>year</td>\n",
       "      <td>72750.0</td>\n",
       "      <td>Wilshire Law Firm Plc</td>\n",
       "      <td>['sql', 'power bi', 'unity']</td>\n",
       "      <td>{'analyst_tools': ['power bi'], 'other': ['uni...</td>\n",
       "      <td>12</td>\n",
       "    </tr>\n",
       "    <tr>\n",
       "      <th>313161</th>\n",
       "      <td>Data Scientist</td>\n",
       "      <td>Data Scientist - Security Clearance Required</td>\n",
       "      <td>Newport News, VA</td>\n",
       "      <td>via IT JobServe</td>\n",
       "      <td>Full-time</td>\n",
       "      <td>False</td>\n",
       "      <td>Georgia</td>\n",
       "      <td>2023-12-31 17:31:57</td>\n",
       "      <td>False</td>\n",
       "      <td>False</td>\n",
       "      <td>United States</td>\n",
       "      <td>year</td>\n",
       "      <td>114062.5</td>\n",
       "      <td>Leidos</td>\n",
       "      <td>['python', 'r', 'sql', 'pandas', 'numpy']</td>\n",
       "      <td>{'libraries': ['pandas', 'numpy'], 'programmin...</td>\n",
       "      <td>12</td>\n",
       "    </tr>\n",
       "    <tr>\n",
       "      <th>336301</th>\n",
       "      <td>Data Scientist</td>\n",
       "      <td>Data scientist</td>\n",
       "      <td>Dallas, TX</td>\n",
       "      <td>via Talent.com</td>\n",
       "      <td>Full-time</td>\n",
       "      <td>False</td>\n",
       "      <td>Sudan</td>\n",
       "      <td>2023-12-31 23:40:22</td>\n",
       "      <td>False</td>\n",
       "      <td>True</td>\n",
       "      <td>Sudan</td>\n",
       "      <td>year</td>\n",
       "      <td>162500.0</td>\n",
       "      <td>Cognizant Technology Solutions</td>\n",
       "      <td>['python', 'nosql']</td>\n",
       "      <td>{'programming': ['python', 'nosql']}</td>\n",
       "      <td>12</td>\n",
       "    </tr>\n",
       "    <tr>\n",
       "      <th>327439</th>\n",
       "      <td>Data Engineer</td>\n",
       "      <td>Staff engineer data</td>\n",
       "      <td>Southfield, MI</td>\n",
       "      <td>via Talent.com</td>\n",
       "      <td>Full-time</td>\n",
       "      <td>False</td>\n",
       "      <td>Sudan</td>\n",
       "      <td>2023-12-31 23:40:32</td>\n",
       "      <td>False</td>\n",
       "      <td>False</td>\n",
       "      <td>Sudan</td>\n",
       "      <td>year</td>\n",
       "      <td>140000.0</td>\n",
       "      <td>Credit Acceptance</td>\n",
       "      <td>['express', 'kubernetes']</td>\n",
       "      <td>{'other': ['kubernetes'], 'webframeworks': ['e...</td>\n",
       "      <td>12</td>\n",
       "    </tr>\n",
       "  </tbody>\n",
       "</table>\n",
       "<p>22003 rows × 17 columns</p>\n",
       "</div>"
      ],
      "text/plain": [
       "              job_title_short  \\\n",
       "108883         Data Scientist   \n",
       "334082          Data Engineer   \n",
       "365786       Business Analyst   \n",
       "366073           Data Analyst   \n",
       "108099         Data Scientist   \n",
       "...                       ...   \n",
       "186163  Senior Data Scientist   \n",
       "421728           Data Analyst   \n",
       "313161         Data Scientist   \n",
       "336301         Data Scientist   \n",
       "327439          Data Engineer   \n",
       "\n",
       "                                                job_title      job_location  \\\n",
       "108883                                     Data Scientist     Calabasas, CA   \n",
       "334082                                      Data Engineer         Argentina   \n",
       "365786                     Hospitality Operations Analyst          Anywhere   \n",
       "366073                        Data Analytics Professional       Atlanta, GA   \n",
       "108099                       Lead Data Scientist (Hybrid)    Burnsville, MN   \n",
       "...                                                   ...               ...   \n",
       "186163  Tech Lead / Sr Data Scientist, Product Analyti...   Los Angeles, CA   \n",
       "421728                          Data Analyst - Operations   Los Angeles, CA   \n",
       "313161       Data Scientist - Security Clearance Required  Newport News, VA   \n",
       "336301                                     Data scientist        Dallas, TX   \n",
       "327439                                Staff engineer data    Southfield, MI   \n",
       "\n",
       "                                   job_via job_schedule_type  \\\n",
       "108883                     via Recruit.net         Full-time   \n",
       "334082                        via EchoJobs         Full-time   \n",
       "365786  via Goodwin Recruiting | Job Board         Full-time   \n",
       "366073                   via CareerBuilder         Full-time   \n",
       "108099                     via Recruit.net         Full-time   \n",
       "...                                    ...               ...   \n",
       "186163                        via LinkedIn         Full-time   \n",
       "421728                          via Indeed         Full-time   \n",
       "313161                     via IT JobServe         Full-time   \n",
       "336301                      via Talent.com         Full-time   \n",
       "327439                      via Talent.com         Full-time   \n",
       "\n",
       "        job_work_from_home            search_location     job_posted_date  \\\n",
       "108883               False  California, United States 2023-01-01 00:02:56   \n",
       "334082               False                  Argentina 2023-01-01 00:06:13   \n",
       "365786                True                    Georgia 2023-01-01 00:17:55   \n",
       "366073               False                    Georgia 2023-01-01 00:17:58   \n",
       "108099               False    Illinois, United States 2023-01-01 00:21:09   \n",
       "...                    ...                        ...                 ...   \n",
       "186163               False  California, United States 2023-12-31 15:00:46   \n",
       "421728               False  California, United States 2023-12-31 16:00:07   \n",
       "313161               False                    Georgia 2023-12-31 17:31:57   \n",
       "336301               False                      Sudan 2023-12-31 23:40:22   \n",
       "327439               False                      Sudan 2023-12-31 23:40:32   \n",
       "\n",
       "        job_no_degree_mention  job_health_insurance    job_country  \\\n",
       "108883                  False                  True  United States   \n",
       "334082                   True                 False      Argentina   \n",
       "365786                  False                  True  United States   \n",
       "366073                  False                 False  United States   \n",
       "108099                  False                 False  United States   \n",
       "...                       ...                   ...            ...   \n",
       "186163                  False                  True  United States   \n",
       "421728                  False                  True  United States   \n",
       "313161                  False                 False  United States   \n",
       "336301                  False                  True          Sudan   \n",
       "327439                  False                 False          Sudan   \n",
       "\n",
       "       salary_rate  salary_year_avg                    company_name  \\\n",
       "108883        year         110000.0                       PlanetArt   \n",
       "334082        year          65000.0                           Spiff   \n",
       "365786        year          90000.0              Goodwin Recruiting   \n",
       "366073        year          55000.0                Cogent Infotech.   \n",
       "108099        year         120531.0                    Apple Valley   \n",
       "...            ...              ...                             ...   \n",
       "186163        year         271526.5                          TikTok   \n",
       "421728        year          72750.0           Wilshire Law Firm Plc   \n",
       "313161        year         114062.5                          Leidos   \n",
       "336301        year         162500.0  Cognizant Technology Solutions   \n",
       "327439        year         140000.0               Credit Acceptance   \n",
       "\n",
       "                                               job_skills  \\\n",
       "108883              ['python', 'sql', 'tableau', 'excel']   \n",
       "334082                ['python', 'mysql', 'aws', 'azure']   \n",
       "365786          ['sql', 'excel', 'powerpoint', 'outlook']   \n",
       "366073  ['sql', 'python', 'numpy', 'pandas', 'seaborn'...   \n",
       "108099            ['java', 'sql', 'sql server', 'spring']   \n",
       "...                                                   ...   \n",
       "186163                  ['sql', 'python', 'r', 'express']   \n",
       "421728                       ['sql', 'power bi', 'unity']   \n",
       "313161          ['python', 'r', 'sql', 'pandas', 'numpy']   \n",
       "336301                                ['python', 'nosql']   \n",
       "327439                          ['express', 'kubernetes']   \n",
       "\n",
       "                                          job_type_skills  job_posted_month  \n",
       "108883  {'analyst_tools': ['tableau', 'excel'], 'progr...                 1  \n",
       "334082  {'cloud': ['aws', 'azure'], 'databases': ['mys...                 1  \n",
       "365786  {'analyst_tools': ['excel', 'powerpoint', 'out...                 1  \n",
       "366073  {'analyst_tools': ['excel', 'alteryx', 'tablea...                 1  \n",
       "108099  {'databases': ['sql server'], 'libraries': ['s...                 1  \n",
       "...                                                   ...               ...  \n",
       "186163  {'programming': ['sql', 'python', 'r'], 'webfr...                12  \n",
       "421728  {'analyst_tools': ['power bi'], 'other': ['uni...                12  \n",
       "313161  {'libraries': ['pandas', 'numpy'], 'programmin...                12  \n",
       "336301               {'programming': ['python', 'nosql']}                12  \n",
       "327439  {'other': ['kubernetes'], 'webframeworks': ['e...                12  \n",
       "\n",
       "[22003 rows x 17 columns]"
      ]
     },
     "execution_count": 289,
     "metadata": {},
     "output_type": "execute_result"
    }
   ],
   "source": [
    "df"
   ]
  },
  {
   "cell_type": "code",
   "execution_count": null,
   "id": "4a9b2bc3-2721-43d7-b4f8-fcca38fd1cb0",
   "metadata": {},
   "outputs": [],
   "source": []
  }
 ],
 "metadata": {
  "kernelspec": {
   "display_name": "Python 3 (ipykernel)",
   "language": "python",
   "name": "python3"
  },
  "language_info": {
   "codemirror_mode": {
    "name": "ipython",
    "version": 3
   },
   "file_extension": ".py",
   "mimetype": "text/x-python",
   "name": "python",
   "nbconvert_exporter": "python",
   "pygments_lexer": "ipython3",
   "version": "3.12.4"
  }
 },
 "nbformat": 4,
 "nbformat_minor": 5
}
