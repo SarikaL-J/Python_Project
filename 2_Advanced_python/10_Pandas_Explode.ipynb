import pandas as pd  #import all libraries
import matplotlib.pyplot as plt 
df = pd.read_csv("/Users/jastisarika/Downloads/data_jobs.csv")  #load the csv file

df["job_posted_date"] = pd.to_datetime(df.job_posted_date)
df.head(5)